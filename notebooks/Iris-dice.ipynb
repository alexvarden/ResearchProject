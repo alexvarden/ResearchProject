{
 "cells": [
  {
   "cell_type": "code",
   "execution_count": 1,
   "id": "c4235ad6",
   "metadata": {},
   "outputs": [],
   "source": [
    "from sklearn.neural_network import MLPClassifier\n",
    "import pandas as pd\n",
    "from sklearn.model_selection import train_test_split\n",
    "from sklearn.metrics import roc_auc_score\n",
    "import matplotlib.pyplot as plt\n",
    "from sklearn.metrics import RocCurveDisplay\n",
    "import numpy as np\n",
    "from sklearn import tree\n"
   ]
  },
  {
   "cell_type": "code",
   "execution_count": 2,
   "id": "3aad9ac0",
   "metadata": {},
   "outputs": [],
   "source": [
    "data = pd.read_csv('data/iris.csv')\n",
    "data['class'] = pd.Categorical(data['class'])\n",
    "classCodes = dict(enumerate(data['class'].cat.categories))\n"
   ]
  },
  {
   "attachments": {},
   "cell_type": "markdown",
   "id": "f3d7082e",
   "metadata": {},
   "source": [
    "\n",
    "Splitting data into training / test allows me to test the accuracy of my model on unseend data.\n",
    "\n",
    "this split is random however to mainatin class raitios i have used stratisfied sampling.\n",
    "\n",
    "random state = 1 allows randomisation to remain deterministic, this ensures that test data dos not bleed into the training data"
   ]
  },
  {
   "cell_type": "code",
   "execution_count": 3,
   "id": "c634f6eb",
   "metadata": {},
   "outputs": [],
   "source": [
    "X = data.drop(['class'], axis=1)\n",
    "y = data['class']"
   ]
  },
  {
   "cell_type": "code",
   "execution_count": 4,
   "id": "ea7e9e13",
   "metadata": {},
   "outputs": [],
   "source": [
    "import pickle\n",
    "\n",
    "filename = \"models/iris-nn.pickle\"\n",
    "clf = pickle.load(open(filename, \"rb\"))\n"
   ]
  },
  {
   "cell_type": "code",
   "execution_count": 5,
   "id": "f9fef25b",
   "metadata": {},
   "outputs": [],
   "source": [
    "import dice_ml\n",
    "\n",
    "\n",
    "# Dataset for training an ML model\n",
    "d = dice_ml.Data(dataframe=data,\n",
    "                continuous_features=[\n",
    "                    'sepal_length', 'sepal_width', 'petal_length', 'petal_width'\n",
    "                ],\n",
    "\n",
    "                 outcome_name='class')\n",
    "\n",
    "# Pre-trained ML model\n",
    "m = dice_ml.Model(model=clf, backend=\"sklearn\", model_type='classifier')\n",
    "# DiCE explanation instance\n",
    "exp = dice_ml.Dice(d, m, method=\"genetic\",)\n"
   ]
  },
  {
   "cell_type": "code",
   "execution_count": 6,
   "id": "c826ddd3",
   "metadata": {},
   "outputs": [],
   "source": [
    "def flattenArray(arr):\n",
    "    # Create an empty 2D list to hold the converted values\n",
    "    result = []\n",
    "\n",
    "    # Loop through each sub-array in the input array\n",
    "    for sub_arr in arr:\n",
    "        # Loop through each element in the sub-array\n",
    "        for element in sub_arr:\n",
    "            # Append the element to the result list\n",
    "            result.append(element)\n",
    "\n",
    "    return result\n",
    "\n",
    "\n",
    "def lookupClassLabel(array,labels):\n",
    "    for i in range(len(array)):\n",
    "        array[i][-1] = labels[array[i][-1]]\n",
    "    return array\n",
    "\n",
    "\n",
    "# print(lookupClassLabel(cf[\"cfs_list\"],classCodes))\n"
   ]
  },
  {
   "cell_type": "code",
   "execution_count": 7,
   "id": "023b404c",
   "metadata": {},
   "outputs": [
    {
     "name": "stdout",
     "output_type": "stream",
     "text": [
      " Iris-setosa => Iris-versicolor(0.5)\n"
     ]
    },
    {
     "name": "stderr",
     "output_type": "stream",
     "text": [
      "100%|██████████| 25/25 [00:02<00:00,  8.34it/s]\n"
     ]
    },
    {
     "name": "stdout",
     "output_type": "stream",
     "text": [
      "['sepal_length', 'sepal_width', 'petal_length', 'petal_width', 'class']\n",
      " Iris-setosa => Iris-virginica(0.5)\n"
     ]
    },
    {
     "name": "stderr",
     "output_type": "stream",
     "text": [
      "100%|██████████| 25/25 [00:03<00:00,  8.13it/s]\n"
     ]
    },
    {
     "name": "stdout",
     "output_type": "stream",
     "text": [
      " Iris-versicolor => Iris-setosa(0.5)\n"
     ]
    },
    {
     "name": "stderr",
     "output_type": "stream",
     "text": [
      "100%|██████████| 25/25 [00:02<00:00,  9.06it/s]\n"
     ]
    },
    {
     "name": "stdout",
     "output_type": "stream",
     "text": [
      " Iris-versicolor => Iris-virginica(0.5)\n"
     ]
    },
    {
     "name": "stderr",
     "output_type": "stream",
     "text": [
      "100%|██████████| 25/25 [00:02<00:00,  8.85it/s]\n"
     ]
    },
    {
     "name": "stdout",
     "output_type": "stream",
     "text": [
      " Iris-virginica => Iris-setosa(0.5)\n"
     ]
    },
    {
     "name": "stderr",
     "output_type": "stream",
     "text": [
      "100%|██████████| 25/25 [00:02<00:00,  9.28it/s]\n"
     ]
    },
    {
     "name": "stdout",
     "output_type": "stream",
     "text": [
      " Iris-virginica => Iris-versicolor(0.5)\n"
     ]
    },
    {
     "name": "stderr",
     "output_type": "stream",
     "text": [
      "100%|██████████| 25/25 [00:01<00:00, 13.31it/s]\n"
     ]
    }
   ],
   "source": [
    "import json\n",
    "import csv\n",
    "\n",
    "counterFactuals = []\n",
    "percentage_to_sample = 1 / (len(classCodes) - 1)\n",
    "\n",
    "f = open('counterfactuals/iris-1.csv', 'w')\n",
    "first = True\n",
    "writer = csv.writer(f)\n",
    "for classCode in classCodes:\n",
    "    query_instances = data[data[\"class\"].cat.codes == classCode]\n",
    "    for desiredClass in classCodes:\n",
    "\n",
    "        if (desiredClass == classCode):\n",
    "            continue\n",
    "        print(\n",
    "            f\" {classCodes[classCode]} => {classCodes[desiredClass]}({percentage_to_sample})\")\n",
    "\n",
    "        result = exp.generate_counterfactuals(\n",
    "            query_instances.drop(['class'], axis=1).sample(\n",
    "                frac=percentage_to_sample, random_state=1),\n",
    "            total_CFs=1,\n",
    "            desired_class=int(desiredClass),\n",
    "            proximity_weight=5,\n",
    "            sparsity_weight=0.2,\n",
    "            diversity_weight=0.5,\n",
    "            categorical_penalty=0.1,\n",
    "        )\n",
    "        result = json.loads(result.to_json())\n",
    "        cfList = result[\"cfs_list\"]\n",
    "        cfList = flattenArray(cfList)\n",
    "        cfList = lookupClassLabel(cfList, classCodes)\n",
    "\n",
    "        if (first):\n",
    "            print(result['feature_names_including_target'])\n",
    "            writer.writerow(result['feature_names_including_target'])\n",
    "            first = False\n",
    "        writer.writerows(cfList)\n",
    "\n",
    "\n",
    "\n",
    "\n"
   ]
  },
  {
   "cell_type": "code",
   "execution_count": null,
   "id": "00b05064",
   "metadata": {},
   "outputs": [],
   "source": []
  },
  {
   "cell_type": "markdown",
   "id": "dfc06fd7",
   "metadata": {},
   "source": [
    "Validate Cfs against model, should get 100% accruracy as these are informed by model"
   ]
  },
  {
   "cell_type": "code",
   "execution_count": 8,
   "id": "3bcc89b8",
   "metadata": {},
   "outputs": [],
   "source": [
    "# from sklearn.preprocessing import LabelBinarizer\n",
    "\n",
    "\n",
    "# cfdata = pd.read_csv('counterfactuals/iris-1.csv')\n",
    "# cfdata.head()\n",
    "# X = cfdata.drop(['class'], axis=1)\n",
    "# y = cfdata['class']\n",
    "\n",
    "\n",
    "# y_score = clf.predict_proba(X)\n",
    "\n",
    "# label_binarizer = LabelBinarizer().fit(y)\n",
    "# y_onehot_test = label_binarizer.transform(y)\n",
    "# y_onehot_test.shape  # (n_samples, n_classes)\n",
    "\n",
    "# for class_of_interest in label_binarizer.classes_:\n",
    "#     class_id = np.flatnonzero(label_binarizer.classes_ == class_of_interest)[0]\n",
    "\n",
    "#     RocCurveDisplay.from_predictions(\n",
    "#         y_onehot_test[:, class_id],\n",
    "#         y_score[:, class_id],\n",
    "#         name=f\"{class_of_interest} vs the rest\",\n",
    "#         color=\"darkorange\",\n",
    "#     )\n",
    "#     plt.plot([0, 1], [0, 1], \"k--\", label=\"chance level (AUC = 0.5)\")\n",
    "#     plt.axis(\"square\")\n",
    "#     plt.xlabel(\"False Positive Rate\")\n",
    "#     plt.ylabel(\"True Positive Rate\")\n",
    "#     plt.title(f\"{class_of_interest} vs the rest\")\n",
    "#     plt.legend()\n",
    "#     plt.show()\n"
   ]
  },
  {
   "cell_type": "code",
   "execution_count": null,
   "id": "34060257",
   "metadata": {},
   "outputs": [],
   "source": [
    "\n"
   ]
  },
  {
   "cell_type": "code",
   "execution_count": 9,
   "id": "a888a071",
   "metadata": {},
   "outputs": [],
   "source": [
    "# import random\n",
    "\n",
    "\n",
    "\n",
    "# samples = 1000\n",
    "# rows = {}\n",
    "\n",
    "# headings = list(data.columns.values)\n",
    "\n",
    "\n",
    "\n",
    "# for columnName in headings:\n",
    "#     rows[columnName] = []\n",
    "\n",
    "\n",
    "# for _ in range(samples):\n",
    "\n",
    "\n",
    "#     for columnName in headings:\n",
    "#         # print(columnName, data[columnName].dtype.name)\n",
    "#         if (data[columnName].dtype.name == 'category'):\n",
    "#             value = None\n",
    "#         elif (data[columnName].dtype.name == 'float64'):\n",
    "#             value = random.uniform(\n",
    "#                 data[columnName].min(), data[columnName].max())\n",
    "#         rows[columnName].append(value)\n",
    "\n",
    "# randomData = pd.DataFrame(data=rows, columns=data.columns)\n",
    "\n",
    "# X = randomData.drop(['class'], axis=1) \n",
    "# randomData['class'] = clf.predict(X)\n",
    "\n",
    "# print(randomData.groupby(['class']).size())\n",
    "\n",
    "\n",
    "\n",
    "# randomData.to_csv('random-pertuabtions/iris-100.csv',index=False)\n"
   ]
  },
  {
   "cell_type": "markdown",
   "id": "27602ed9",
   "metadata": {},
   "source": []
  },
  {
   "cell_type": "code",
   "execution_count": null,
   "metadata": {},
   "outputs": [],
   "source": []
  },
  {
   "cell_type": "code",
   "execution_count": null,
   "id": "ea7c06c4",
   "metadata": {},
   "outputs": [],
   "source": []
  },
  {
   "cell_type": "code",
   "execution_count": null,
   "id": "9a61f3a6",
   "metadata": {},
   "outputs": [],
   "source": []
  }
 ],
 "metadata": {
  "kernelspec": {
   "display_name": "Python 3",
   "language": "python",
   "name": "python3"
  },
  "language_info": {
   "codemirror_mode": {
    "name": "ipython",
    "version": 3
   },
   "file_extension": ".py",
   "mimetype": "text/x-python",
   "name": "python",
   "nbconvert_exporter": "python",
   "pygments_lexer": "ipython3",
   "version": "3.9.6"
  },
  "vscode": {
   "interpreter": {
    "hash": "0464d5d02af622c04444deef6bf77eced4446107876871d1167ca91be0730c29"
   }
  }
 },
 "nbformat": 4,
 "nbformat_minor": 5
}
