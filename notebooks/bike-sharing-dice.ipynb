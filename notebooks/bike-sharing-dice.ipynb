{
 "cells": [
  {
   "cell_type": "code",
   "execution_count": 3,
   "id": "c4235ad6",
   "metadata": {},
   "outputs": [],
   "source": [
    "from sklearn.neural_network import MLPRegressor\n",
    "from sklearn.neural_network import MLPClassifier\n",
    "import pandas as pd\n",
    "from sklearn.model_selection import train_test_split\n",
    "from sklearn.metrics import roc_auc_score\n",
    "import matplotlib.pyplot as plt\n",
    "import numpy as np\n",
    "from sklearn import tree\n",
    "from PreproccessPipeline import get_quantile_ranges, flattenArray\n"
   ]
  },
  {
   "cell_type": "markdown",
   "id": "ba8e45cf",
   "metadata": {},
   "source": []
  },
  {
   "cell_type": "code",
   "execution_count": 4,
   "id": "3aad9ac0",
   "metadata": {},
   "outputs": [
    {
     "name": "stdout",
     "output_type": "stream",
     "text": [
      "0        01/01/2011\n",
      "1        01/01/2011\n",
      "2        01/01/2011\n",
      "3        01/01/2011\n",
      "4        01/01/2011\n",
      "            ...    \n",
      "17374    31/12/2012\n",
      "17375    31/12/2012\n",
      "17376    31/12/2012\n",
      "17377    31/12/2012\n",
      "17378    31/12/2012\n",
      "Name: dteday, Length: 17379, dtype: object\n",
      "{1: [1.0, 40.0], 2: [40.0, 142.0], 3: [142.0, 281.0], 4: [281.0, 977.0]}\n"
     ]
    }
   ],
   "source": [
    "data = pd.read_csv('data/bike-sharing-hourly.csv')\n",
    "data['dteday'] = pd.to_datetime(data['dteday'], format='%d/%m/%Y')\n",
    "# data['dteday'] = data['dteday'].dt.strftime('%d').astype(int)\n",
    "print(data['dteday'])\n",
    "\n",
    "\n",
    "\n",
    "# these give you 100% accuracy, because they make up the cnt\n",
    "data = data.drop(['casual', 'instant', 'registered'], axis=1)\n",
    "\n",
    "data.dtypes\n",
    "# data.head(50)\n",
    "# data['class'] = pd.qcut(data['cnt'], q=4, labels=False)\n",
    "# classCodes = dict(enumerate(data['class'].cat.categories))\n",
    "\n",
    "\n",
    "continuous_features = ['dteday', 'season', 'yr', 'mnth', 'hr', 'holiday', 'weekday',\n",
    "'workingday', 'weathersit', 'temp', 'atemp', 'hum', 'windspeed']\n",
    "\n",
    "\n",
    "quantileRanges = get_quantile_ranges(data['cnt'],4)\n",
    "print(quantileRanges)\n"
   ]
  },
  {
   "cell_type": "code",
   "execution_count": 85,
   "id": "3931503c",
   "metadata": {},
   "outputs": [],
   "source": [
    "import pickle\n",
    "\n",
    "filename = \"models/bike-share-nn.pickle\"\n",
    "clf = pickle.load(open(filename, \"rb\"))\n"
   ]
  },
  {
   "cell_type": "code",
   "execution_count": 86,
   "id": "56a28ee4",
   "metadata": {},
   "outputs": [
    {
     "name": "stdout",
     "output_type": "stream",
     "text": [
      "['dteday', 'season', 'yr', 'mnth', 'hr', 'holiday', 'weekday', 'workingday', 'weathersit', 'temp', 'atemp', 'hum', 'windspeed']\n"
     ]
    }
   ],
   "source": [
    "import dice_ml\n",
    "from sklearn.preprocessing import OneHotEncoder\n",
    "from sklearn.compose import ColumnTransformer\n",
    "from sklearn.pipeline import Pipeline\n",
    "\n",
    "print(continuous_features)\n",
    "# Dataset for training an ML model\n",
    "d = dice_ml.Data(dataframe=data,\n",
    "                 continuous_features=continuous_features,\n",
    "                 outcome_name='cnt')\n",
    "\n",
    "# Pre-trained ML model\n",
    "m = dice_ml.Model(model=clf, backend=\"sklearn\", model_type='regressor')\n",
    "# DiCE explanation instance\n",
    "exp = dice_ml.Dice(d, m, method=\"genetic\",)\n"
   ]
  },
  {
   "cell_type": "code",
   "execution_count": 87,
   "id": "7ba0d870",
   "metadata": {},
   "outputs": [
    {
     "name": "stdout",
     "output_type": "stream",
     "text": [
      "[1.0, 40.0]\n",
      " 4 => 2(0.3333333333333333)\n"
     ]
    },
    {
     "name": "stderr",
     "output_type": "stream",
     "text": [
      " 20%|██        | 294/1459 [00:33<02:11,  8.87it/s]\n"
     ]
    },
    {
     "ename": "KeyboardInterrupt",
     "evalue": "",
     "output_type": "error",
     "traceback": [
      "\u001b[0;31m---------------------------------------------------------------------------\u001b[0m",
      "\u001b[0;31mKeyboardInterrupt\u001b[0m                         Traceback (most recent call last)",
      "Cell \u001b[0;32mIn[87], line 25\u001b[0m\n\u001b[1;32m     21\u001b[0m     \u001b[39mcontinue\u001b[39;00m\n\u001b[1;32m     22\u001b[0m \u001b[39mprint\u001b[39m(\n\u001b[1;32m     23\u001b[0m     \u001b[39mf\u001b[39m\u001b[39m\"\u001b[39m\u001b[39m \u001b[39m\u001b[39m{\u001b[39;00mq_range\u001b[39m}\u001b[39;00m\u001b[39m => \u001b[39m\u001b[39m{\u001b[39;00mdesiredRange\u001b[39m}\u001b[39;00m\u001b[39m(\u001b[39m\u001b[39m{\u001b[39;00mpercentage_to_sample\u001b[39m}\u001b[39;00m\u001b[39m)\u001b[39m\u001b[39m\"\u001b[39m)\n\u001b[0;32m---> 25\u001b[0m result \u001b[39m=\u001b[39m exp\u001b[39m.\u001b[39;49mgenerate_counterfactuals(\n\u001b[1;32m     26\u001b[0m     query_instances\u001b[39m.\u001b[39;49mdrop([\u001b[39m'\u001b[39;49m\u001b[39mcnt\u001b[39;49m\u001b[39m'\u001b[39;49m], axis\u001b[39m=\u001b[39;49m\u001b[39m1\u001b[39;49m)\u001b[39m.\u001b[39;49msample(\n\u001b[1;32m     27\u001b[0m         frac\u001b[39m=\u001b[39;49mpercentage_to_sample, random_state\u001b[39m=\u001b[39;49m\u001b[39m1\u001b[39;49m),\n\u001b[1;32m     28\u001b[0m     total_CFs\u001b[39m=\u001b[39;49m\u001b[39m1\u001b[39;49m,\n\u001b[1;32m     29\u001b[0m     desired_range\u001b[39m=\u001b[39;49mquantileRanges[desiredRange],\n\u001b[1;32m     30\u001b[0m     \u001b[39m# proximity_weight=0.8,\u001b[39;49;00m\n\u001b[1;32m     31\u001b[0m     \u001b[39m# sparsity_weight=0.2,\u001b[39;49;00m\n\u001b[1;32m     32\u001b[0m     \u001b[39m# diversity_weight=0.6,\u001b[39;49;00m\n\u001b[1;32m     33\u001b[0m     \u001b[39m# categorical_penalty=0.1,\u001b[39;49;00m\n\u001b[1;32m     34\u001b[0m     \u001b[39m# stopping_threshold=0.4\u001b[39;49;00m\n\u001b[1;32m     35\u001b[0m )\n\u001b[1;32m     36\u001b[0m result \u001b[39m=\u001b[39m json\u001b[39m.\u001b[39mloads(result\u001b[39m.\u001b[39mto_json())\n\u001b[1;32m     37\u001b[0m cfList \u001b[39m=\u001b[39m result[\u001b[39m\"\u001b[39m\u001b[39mcfs_list\u001b[39m\u001b[39m\"\u001b[39m]\n",
      "File \u001b[0;32m~/.pyenv/versions/3.9.6/lib/python3.9/site-packages/dice_ml/explainer_interfaces/explainer_base.py:161\u001b[0m, in \u001b[0;36mExplainerBase.generate_counterfactuals\u001b[0;34m(self, query_instances, total_CFs, desired_class, desired_range, permitted_range, features_to_vary, stopping_threshold, posthoc_sparsity_param, proximity_weight, sparsity_weight, diversity_weight, categorical_penalty, posthoc_sparsity_algorithm, verbose, **kwargs)\u001b[0m\n\u001b[1;32m    159\u001b[0m \u001b[39mfor\u001b[39;00m query_instance \u001b[39min\u001b[39;00m tqdm(query_instances_list):\n\u001b[1;32m    160\u001b[0m     \u001b[39mself\u001b[39m\u001b[39m.\u001b[39mdata_interface\u001b[39m.\u001b[39mset_continuous_feature_indexes(query_instance)\n\u001b[0;32m--> 161\u001b[0m     res \u001b[39m=\u001b[39m \u001b[39mself\u001b[39;49m\u001b[39m.\u001b[39;49m_generate_counterfactuals(\n\u001b[1;32m    162\u001b[0m         query_instance, total_CFs,\n\u001b[1;32m    163\u001b[0m         desired_class\u001b[39m=\u001b[39;49mdesired_class,\n\u001b[1;32m    164\u001b[0m         desired_range\u001b[39m=\u001b[39;49mdesired_range,\n\u001b[1;32m    165\u001b[0m         permitted_range\u001b[39m=\u001b[39;49mpermitted_range,\n\u001b[1;32m    166\u001b[0m         features_to_vary\u001b[39m=\u001b[39;49mfeatures_to_vary,\n\u001b[1;32m    167\u001b[0m         stopping_threshold\u001b[39m=\u001b[39;49mstopping_threshold,\n\u001b[1;32m    168\u001b[0m         posthoc_sparsity_param\u001b[39m=\u001b[39;49mposthoc_sparsity_param,\n\u001b[1;32m    169\u001b[0m         posthoc_sparsity_algorithm\u001b[39m=\u001b[39;49mposthoc_sparsity_algorithm,\n\u001b[1;32m    170\u001b[0m         verbose\u001b[39m=\u001b[39;49mverbose,\n\u001b[1;32m    171\u001b[0m         \u001b[39m*\u001b[39;49m\u001b[39m*\u001b[39;49mkwargs)\n\u001b[1;32m    172\u001b[0m     cf_examples_arr\u001b[39m.\u001b[39mappend(res)\n\u001b[1;32m    173\u001b[0m \u001b[39mself\u001b[39m\u001b[39m.\u001b[39m_check_any_counterfactuals_computed(cf_examples_arr\u001b[39m=\u001b[39mcf_examples_arr)\n",
      "File \u001b[0;32m~/.pyenv/versions/3.9.6/lib/python3.9/site-packages/dice_ml/explainer_interfaces/dice_genetic.py:293\u001b[0m, in \u001b[0;36mDiceGenetic._generate_counterfactuals\u001b[0;34m(self, query_instance, total_CFs, initialization, desired_range, desired_class, proximity_weight, sparsity_weight, diversity_weight, categorical_penalty, algorithm, features_to_vary, permitted_range, yloss_type, diversity_loss_type, feature_weights, stopping_threshold, posthoc_sparsity_param, posthoc_sparsity_algorithm, maxiterations, thresh, verbose)\u001b[0m\n\u001b[1;32m    286\u001b[0m         query_instance_df_dummies[col] \u001b[39m=\u001b[39m \u001b[39m0\u001b[39m\n\u001b[1;32m    288\u001b[0m \u001b[39mself\u001b[39m\u001b[39m.\u001b[39mdo_param_initializations(total_CFs, initialization, desired_range, desired_class, query_instance,\n\u001b[1;32m    289\u001b[0m                               query_instance_df_dummies, algorithm, features_to_vary, permitted_range,\n\u001b[1;32m    290\u001b[0m                               yloss_type, diversity_loss_type, feature_weights, proximity_weight,\n\u001b[1;32m    291\u001b[0m                               sparsity_weight, diversity_weight, categorical_penalty, verbose)\n\u001b[0;32m--> 293\u001b[0m query_instance_df \u001b[39m=\u001b[39m \u001b[39mself\u001b[39;49m\u001b[39m.\u001b[39;49mfind_counterfactuals(query_instance, desired_range, desired_class, features_to_vary,\n\u001b[1;32m    294\u001b[0m                                               maxiterations, thresh, verbose)\n\u001b[1;32m    296\u001b[0m \u001b[39mreturn\u001b[39;00m exp\u001b[39m.\u001b[39mCounterfactualExamples(data_interface\u001b[39m=\u001b[39m\u001b[39mself\u001b[39m\u001b[39m.\u001b[39mdata_interface,\n\u001b[1;32m    297\u001b[0m                                   test_instance_df\u001b[39m=\u001b[39mquery_instance_df,\n\u001b[1;32m    298\u001b[0m                                   final_cfs_df\u001b[39m=\u001b[39m\u001b[39mself\u001b[39m\u001b[39m.\u001b[39mfinal_cfs_df,\n\u001b[0;32m   (...)\u001b[0m\n\u001b[1;32m    302\u001b[0m                                   desired_class\u001b[39m=\u001b[39mdesired_class,\n\u001b[1;32m    303\u001b[0m                                   model_type\u001b[39m=\u001b[39m\u001b[39mself\u001b[39m\u001b[39m.\u001b[39mmodel\u001b[39m.\u001b[39mmodel_type)\n",
      "File \u001b[0;32m~/.pyenv/versions/3.9.6/lib/python3.9/site-packages/dice_ml/explainer_interfaces/dice_genetic.py:466\u001b[0m, in \u001b[0;36mDiceGenetic.find_counterfactuals\u001b[0;34m(self, query_instance, desired_range, desired_class, features_to_vary, maxiterations, thresh, verbose)\u001b[0m\n\u001b[1;32m    464\u001b[0m         cfs_preds \u001b[39m=\u001b[39m \u001b[39mself\u001b[39m\u001b[39m.\u001b[39m_predict_fn_custom(to_pred, desired_class)\n\u001b[1;32m    465\u001b[0m     \u001b[39melse\u001b[39;00m:\n\u001b[0;32m--> 466\u001b[0m         cfs_preds \u001b[39m=\u001b[39m \u001b[39mself\u001b[39;49m\u001b[39m.\u001b[39;49mpredict_fn(to_pred)\n\u001b[1;32m    468\u001b[0m \u001b[39m# self.total_CFS of the next generation obtained from the fittest members of current generation\u001b[39;00m\n\u001b[1;32m    469\u001b[0m top_members \u001b[39m=\u001b[39m \u001b[39mself\u001b[39m\u001b[39m.\u001b[39mtotal_CFs\n",
      "File \u001b[0;32m~/.pyenv/versions/3.9.6/lib/python3.9/site-packages/dice_ml/explainer_interfaces/dice_genetic.py:317\u001b[0m, in \u001b[0;36mDiceGenetic.predict_fn\u001b[0;34m(self, input_instance)\u001b[0m\n\u001b[1;32m    315\u001b[0m \u001b[39m\u001b[39m\u001b[39m\"\"\"Returns actual prediction.\"\"\"\u001b[39;00m\n\u001b[1;32m    316\u001b[0m input_instance \u001b[39m=\u001b[39m \u001b[39mself\u001b[39m\u001b[39m.\u001b[39mlabel_decode(input_instance)\n\u001b[0;32m--> 317\u001b[0m preds \u001b[39m=\u001b[39m \u001b[39mself\u001b[39;49m\u001b[39m.\u001b[39;49mmodel\u001b[39m.\u001b[39;49mget_output(input_instance, model_score\u001b[39m=\u001b[39;49m\u001b[39mFalse\u001b[39;49;00m)\n\u001b[1;32m    318\u001b[0m \u001b[39mreturn\u001b[39;00m preds\n",
      "File \u001b[0;32m~/.pyenv/versions/3.9.6/lib/python3.9/site-packages/dice_ml/model_interfaces/base_model.py:60\u001b[0m, in \u001b[0;36mBaseModel.get_output\u001b[0;34m(self, input_instance, model_score)\u001b[0m\n\u001b[1;32m     58\u001b[0m         \u001b[39mreturn\u001b[39;00m \u001b[39mself\u001b[39m\u001b[39m.\u001b[39mmodel\u001b[39m.\u001b[39mpredict(input_instance)\n\u001b[1;32m     59\u001b[0m \u001b[39melse\u001b[39;00m:\n\u001b[0;32m---> 60\u001b[0m     \u001b[39mreturn\u001b[39;00m \u001b[39mself\u001b[39;49m\u001b[39m.\u001b[39;49mmodel\u001b[39m.\u001b[39;49mpredict(input_instance)\n",
      "File \u001b[0;32m~/.pyenv/versions/3.9.6/lib/python3.9/site-packages/sklearn/neural_network/_multilayer_perceptron.py:1591\u001b[0m, in \u001b[0;36mMLPRegressor.predict\u001b[0;34m(self, X)\u001b[0m\n\u001b[1;32m   1578\u001b[0m \u001b[39m\u001b[39m\u001b[39m\"\"\"Predict using the multi-layer perceptron model.\u001b[39;00m\n\u001b[1;32m   1579\u001b[0m \n\u001b[1;32m   1580\u001b[0m \u001b[39mParameters\u001b[39;00m\n\u001b[0;32m   (...)\u001b[0m\n\u001b[1;32m   1588\u001b[0m \u001b[39m    The predicted values.\u001b[39;00m\n\u001b[1;32m   1589\u001b[0m \u001b[39m\"\"\"\u001b[39;00m\n\u001b[1;32m   1590\u001b[0m check_is_fitted(\u001b[39mself\u001b[39m)\n\u001b[0;32m-> 1591\u001b[0m \u001b[39mreturn\u001b[39;00m \u001b[39mself\u001b[39;49m\u001b[39m.\u001b[39;49m_predict(X)\n",
      "File \u001b[0;32m~/.pyenv/versions/3.9.6/lib/python3.9/site-packages/sklearn/neural_network/_multilayer_perceptron.py:1595\u001b[0m, in \u001b[0;36mMLPRegressor._predict\u001b[0;34m(self, X, check_input)\u001b[0m\n\u001b[1;32m   1593\u001b[0m \u001b[39mdef\u001b[39;00m \u001b[39m_predict\u001b[39m(\u001b[39mself\u001b[39m, X, check_input\u001b[39m=\u001b[39m\u001b[39mTrue\u001b[39;00m):\n\u001b[1;32m   1594\u001b[0m \u001b[39m    \u001b[39m\u001b[39m\"\"\"Private predict method with optional input validation\"\"\"\u001b[39;00m\n\u001b[0;32m-> 1595\u001b[0m     y_pred \u001b[39m=\u001b[39m \u001b[39mself\u001b[39;49m\u001b[39m.\u001b[39;49m_forward_pass_fast(X, check_input\u001b[39m=\u001b[39;49mcheck_input)\n\u001b[1;32m   1596\u001b[0m     \u001b[39mif\u001b[39;00m y_pred\u001b[39m.\u001b[39mshape[\u001b[39m1\u001b[39m] \u001b[39m==\u001b[39m \u001b[39m1\u001b[39m:\n\u001b[1;32m   1597\u001b[0m         \u001b[39mreturn\u001b[39;00m y_pred\u001b[39m.\u001b[39mravel()\n",
      "File \u001b[0;32m~/.pyenv/versions/3.9.6/lib/python3.9/site-packages/sklearn/neural_network/_multilayer_perceptron.py:210\u001b[0m, in \u001b[0;36mBaseMultilayerPerceptron._forward_pass_fast\u001b[0;34m(self, X, check_input)\u001b[0m\n\u001b[1;32m    208\u001b[0m hidden_activation \u001b[39m=\u001b[39m ACTIVATIONS[\u001b[39mself\u001b[39m\u001b[39m.\u001b[39mactivation]\n\u001b[1;32m    209\u001b[0m \u001b[39mfor\u001b[39;00m i \u001b[39min\u001b[39;00m \u001b[39mrange\u001b[39m(\u001b[39mself\u001b[39m\u001b[39m.\u001b[39mn_layers_ \u001b[39m-\u001b[39m \u001b[39m1\u001b[39m):\n\u001b[0;32m--> 210\u001b[0m     activation \u001b[39m=\u001b[39m safe_sparse_dot(activation, \u001b[39mself\u001b[39;49m\u001b[39m.\u001b[39;49mcoefs_[i])\n\u001b[1;32m    211\u001b[0m     activation \u001b[39m+\u001b[39m\u001b[39m=\u001b[39m \u001b[39mself\u001b[39m\u001b[39m.\u001b[39mintercepts_[i]\n\u001b[1;32m    212\u001b[0m     \u001b[39mif\u001b[39;00m i \u001b[39m!=\u001b[39m \u001b[39mself\u001b[39m\u001b[39m.\u001b[39mn_layers_ \u001b[39m-\u001b[39m \u001b[39m2\u001b[39m:\n",
      "File \u001b[0;32m~/.pyenv/versions/3.9.6/lib/python3.9/site-packages/sklearn/utils/extmath.py:189\u001b[0m, in \u001b[0;36msafe_sparse_dot\u001b[0;34m(a, b, dense_output)\u001b[0m\n\u001b[1;32m    187\u001b[0m         ret \u001b[39m=\u001b[39m np\u001b[39m.\u001b[39mdot(a, b)\n\u001b[1;32m    188\u001b[0m \u001b[39melse\u001b[39;00m:\n\u001b[0;32m--> 189\u001b[0m     ret \u001b[39m=\u001b[39m a \u001b[39m@\u001b[39;49m b\n\u001b[1;32m    191\u001b[0m \u001b[39mif\u001b[39;00m (\n\u001b[1;32m    192\u001b[0m     sparse\u001b[39m.\u001b[39missparse(a)\n\u001b[1;32m    193\u001b[0m     \u001b[39mand\u001b[39;00m sparse\u001b[39m.\u001b[39missparse(b)\n\u001b[1;32m    194\u001b[0m     \u001b[39mand\u001b[39;00m dense_output\n\u001b[1;32m    195\u001b[0m     \u001b[39mand\u001b[39;00m \u001b[39mhasattr\u001b[39m(ret, \u001b[39m\"\u001b[39m\u001b[39mtoarray\u001b[39m\u001b[39m\"\u001b[39m)\n\u001b[1;32m    196\u001b[0m ):\n\u001b[1;32m    197\u001b[0m     \u001b[39mreturn\u001b[39;00m ret\u001b[39m.\u001b[39mtoarray()\n",
      "\u001b[0;31mKeyboardInterrupt\u001b[0m: "
     ]
    }
   ],
   "source": [
    "import json\n",
    "import csv\n",
    "\n",
    "\n",
    "percentage_to_sample = 1 / (len(quantileRanges) - 1)\n",
    "# percentage_to_sample = percentage_to_sample * 0.1\n",
    "f = open('counterfactuals/bike-share-1.csv', 'w')\n",
    "first = True\n",
    "writer = csv.writer(f)\n",
    "for q in quantileRanges:\n",
    "    print(quantileRanges[q])\n",
    "    query_instances = data[(data['cnt'] >= quantileRanges[q][0]) & (\n",
    "        data['cnt'] <= quantileRanges[q][1])]\n",
    "\n",
    "    for desiredRange in quantileRanges:\n",
    "        if (desiredRange == q):\n",
    "            continue\n",
    "        print(\n",
    "            f\" {q_range} => {desiredRange}({percentage_to_sample})\")\n",
    "\n",
    "        result = exp.generate_counterfactuals(\n",
    "            query_instances.drop(['cnt'], axis=1).sample(\n",
    "                frac=percentage_to_sample, random_state=1),\n",
    "            total_CFs=1,\n",
    "            desired_range=quantileRanges[desiredRange],\n",
    "            # proximity_weight=0.8,\n",
    "            # sparsity_weight=0.2,\n",
    "            # diversity_weight=0.6,\n",
    "            # categorical_penalty=0.1,\n",
    "            # stopping_threshold=0.4\n",
    "        )\n",
    "        result = json.loads(result.to_json())\n",
    "        cfList = result[\"cfs_list\"]\n",
    "        cfList = flattenArray(cfList)\n",
    "        \n",
    "        if (first):\n",
    "            print(result['feature_names_including_target'])\n",
    "            writer.writerow(result['feature_names_including_target'])\n",
    "            first = False\n",
    "        writer.writerows(cfList)\n"
   ]
  },
  {
   "cell_type": "code",
   "execution_count": null,
   "id": "3b32a43b",
   "metadata": {},
   "outputs": [],
   "source": []
  }
 ],
 "metadata": {
  "kernelspec": {
   "display_name": "Python 3",
   "language": "python",
   "name": "python3"
  },
  "language_info": {
   "codemirror_mode": {
    "name": "ipython",
    "version": 3
   },
   "file_extension": ".py",
   "mimetype": "text/x-python",
   "name": "python",
   "nbconvert_exporter": "python",
   "pygments_lexer": "ipython3",
   "version": "3.9.6"
  },
  "vscode": {
   "interpreter": {
    "hash": "0464d5d02af622c04444deef6bf77eced4446107876871d1167ca91be0730c29"
   }
  }
 },
 "nbformat": 4,
 "nbformat_minor": 5
}
