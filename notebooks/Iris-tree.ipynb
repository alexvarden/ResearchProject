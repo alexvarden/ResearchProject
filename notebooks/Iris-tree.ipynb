{
 "cells": [
  {
   "cell_type": "code",
   "execution_count": 214,
   "id": "c4235ad6",
   "metadata": {},
   "outputs": [],
   "source": [
    "import pandas as pd\n",
    "from sklearn.tree import DecisionTreeClassifier\n",
    "from sklearn.model_selection import train_test_split\n",
    "from sklearn import metrics\n",
    "from sklearn.tree import export_graphviz\n",
    "import graphviz\n"
   ]
  },
  {
   "cell_type": "code",
   "execution_count": 215,
   "id": "349bc23b",
   "metadata": {},
   "outputs": [],
   "source": [
    "import numpy as np\n",
    "from sklearn.tree import DecisionTreeClassifier\n",
    "\n",
    "\n",
    "def get_mean_path_length(clf: DecisionTreeClassifier) -> float:\n",
    "   # Calculate the number of leaf nodes in the tree\n",
    "    num_leaves = clf.get_n_leaves()\n",
    "\n",
    "    # Calculate the mean path length of the tree\n",
    "    node_depths = clf.tree_.depth\n",
    "    leaf_node_ids = np.where(clf.tree_.children_left == -1)[0]\n",
    "    mean_path_length = np.mean(node_depths[leaf_node_ids])\n",
    "\n",
    "    return mean_path_length\n"
   ]
  },
  {
   "cell_type": "code",
   "execution_count": 216,
   "id": "9a61f3a6",
   "metadata": {},
   "outputs": [
    {
     "name": "stdout",
     "output_type": "stream",
     "text": [
      "Accuracy: 0.9666666666666667\n",
      "Depth of the tree: 7\n"
     ]
    }
   ],
   "source": [
    "\n",
    "# Load the countfactuals from CSV file\n",
    "countfactuals = pd.read_csv('counterfactuals/iris-1.csv')\n",
    "countfactuals = pd.concat([countfactuals,pd.read_csv('counterfactuals/iris-2.csv')])\n",
    "\n",
    "X_train = countfactuals.drop(['class'], axis=1)\n",
    "y_train = countfactuals['class']\n",
    "\n",
    "training = pd.read_csv('data/iris.csv') #.sample(frac=0.2)\n",
    "\n",
    "X_test = training.drop(['class'], axis=1)\n",
    "y_test = training['class']\n",
    "\n",
    "clf = DecisionTreeClassifier()\n",
    "clf.fit(X_train, y_train)\n",
    "\n",
    "# Make predictions on the testing set\n",
    "y_pred = clf.predict(X_test)\n",
    "depth = clf.tree_.max_depth\n",
    "# mean_path_length = get_mean_path_length(clf)\n",
    "\n",
    "# Evaluate the accuracy of the model\n",
    "print('Accuracy:', metrics.accuracy_score(y_test, y_pred))\n",
    "print('Depth of the tree:', depth)\n",
    "# print('Mean path length of the tree:', mean_path_length)\n"
   ]
  },
  {
   "cell_type": "markdown",
   "id": "c74f54f2",
   "metadata": {},
   "source": []
  },
  {
   "cell_type": "code",
   "execution_count": 217,
   "id": "6c831457",
   "metadata": {},
   "outputs": [
    {
     "data": {
      "text/plain": [
       "'decision_tree.pdf'"
      ]
     },
     "execution_count": 217,
     "metadata": {},
     "output_type": "execute_result"
    }
   ],
   "source": [
    "# Visualize the decision tree\n",
    "dot_data = export_graphviz(clf, out_file=None,\n",
    "                           feature_names=X.columns,\n",
    "                           class_names=y.unique(),\n",
    "                           filled=True, rounded=True,\n",
    "                           special_characters=True)\n",
    "graph = graphviz.Source(dot_data)\n",
    "graph.render('decision_tree')  # Save the visualization to a PDF file\n"
   ]
  }
 ],
 "metadata": {
  "kernelspec": {
   "display_name": "Python 3",
   "language": "python",
   "name": "python3"
  },
  "language_info": {
   "codemirror_mode": {
    "name": "ipython",
    "version": 3
   },
   "file_extension": ".py",
   "mimetype": "text/x-python",
   "name": "python",
   "nbconvert_exporter": "python",
   "pygments_lexer": "ipython3",
   "version": "3.9.6"
  },
  "vscode": {
   "interpreter": {
    "hash": "0464d5d02af622c04444deef6bf77eced4446107876871d1167ca91be0730c29"
   }
  }
 },
 "nbformat": 4,
 "nbformat_minor": 5
}
