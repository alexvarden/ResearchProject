{
 "cells": [
  {
   "cell_type": "code",
   "execution_count": 15,
   "id": "7aba0702",
   "metadata": {},
   "outputs": [],
   "source": [
    "from sklearn.ensemble import RandomForestClassifier\n",
    "from sklearn.neural_network import MLPClassifier\n",
    "from sklearn.model_selection import GridSearchCV, train_test_split\n",
    "from sklearn.preprocessing import StandardScaler\n",
    "from sklearn.metrics import accuracy_score\n",
    "from imblearn.pipeline import Pipeline\n",
    "from imblearn.over_sampling import SMOTE\n",
    "import pandas as pd\n",
    "import pickle\n",
    "from sklearn.metrics import classification_report\n",
    "from sklearn.metrics import roc_curve\n"
   ]
  },
  {
   "cell_type": "code",
   "execution_count": null,
   "id": "e8d62017",
   "metadata": {},
   "outputs": [
    {
     "name": "stdout",
     "output_type": "stream",
     "text": [
      "Preprocessing the data...\n",
      "Normalizing the numerical features...\n",
      "Splitting the data into training and testing sets...\n",
      "Balancing the data using SMOTE...\n"
     ]
    }
   ],
   "source": [
    "\n",
    "# Load the Adult dataset\n",
    "url = 'https://archive.ics.uci.edu/ml/machine-learning-databases/adult/adult.data'\n",
    "df = pd.read_csv(url, header=None)\n",
    "\n",
    "# Add column headers\n",
    "df.columns = ['age', 'workclass', 'fnlwgt', 'education', 'education-num', 'marital-status',\n",
    "              'occupation', 'relationship', 'race', 'sex', 'capital-gain', 'capital-loss',\n",
    "              'hours-per-week', 'native-country', 'income']\n",
    "\n",
    "# Preprocess the data\n",
    "# Remove missing values and convert categorical variables to numerical using one-hot encoding\n",
    "print(\"Preprocessing the data...\")\n",
    "df = df.dropna()\n",
    "df = pd.get_dummies(df, columns=['workclass', 'education', 'marital-status',\n",
    "                                 'occupation', 'relationship', 'race', 'sex', 'native-country'])\n",
    "\n",
    "# Normalize the numerical features\n",
    "print(\"Normalizing the numerical features...\")\n",
    "scaler = StandardScaler()\n",
    "numerical_cols = ['age', 'fnlwgt', 'education-num',\n",
    "                  'capital-gain', 'capital-loss', 'hours-per-week']\n",
    "df[numerical_cols] = scaler.fit_transform(df[numerical_cols])\n",
    "\n",
    "# Split the data into training and testing sets\n",
    "print(\"Splitting the data into training and testing sets...\")\n",
    "X_train, X_test, y_train, y_test = train_test_split(df.drop('income', axis=1),\n",
    "                                                    df['income'],\n",
    "                                                    test_size=0.2,\n",
    "                                                    random_state=42)\n",
    "\n",
    "\n"
   ]
  },
  {
   "cell_type": "code",
   "execution_count": 12,
   "id": "bca05d23",
   "metadata": {},
   "outputs": [
    {
     "name": "stdout",
     "output_type": "stream",
     "text": [
      "Balancing the data using SMOTE...\n",
      "Training the models using GridSearchCV...\n",
      "Fitting 5 folds for each of 27 candidates, totalling 135 fits\n",
      "[CV 2/5] END rfc__max_depth=5, rfc__min_samples_split=2, rfc__n_estimators=50;, score=0.742 total time=   1.0s\n",
      "[CV 5/5] END rfc__max_depth=5, rfc__min_samples_split=2, rfc__n_estimators=50;, score=0.754 total time=   1.0s\n",
      "[CV 3/5] END rfc__max_depth=5, rfc__min_samples_split=2, rfc__n_estimators=50;, score=0.761 total time=   1.3s\n",
      "[CV 4/5] END rfc__max_depth=5, rfc__min_samples_split=2, rfc__n_estimators=50;, score=0.745 total time=   1.3s\n",
      "[CV 1/5] END rfc__max_depth=5, rfc__min_samples_split=2, rfc__n_estimators=50;, score=0.741 total time=   1.4s\n",
      "[CV 1/5] END rfc__max_depth=5, rfc__min_samples_split=2, rfc__n_estimators=100;, score=0.742 total time=   1.9s\n",
      "[CV 3/5] END rfc__max_depth=5, rfc__min_samples_split=2, rfc__n_estimators=100;, score=0.755 total time=   2.1s\n",
      "[CV 2/5] END rfc__max_depth=5, rfc__min_samples_split=2, rfc__n_estimators=100;, score=0.740 total time=   2.1s\n",
      "[CV 4/5] END rfc__max_depth=5, rfc__min_samples_split=2, rfc__n_estimators=100;, score=0.747 total time=   1.4s\n",
      "[CV 5/5] END rfc__max_depth=5, rfc__min_samples_split=2, rfc__n_estimators=100;, score=0.753 total time=   1.4s\n",
      "[CV 2/5] END rfc__max_depth=5, rfc__min_samples_split=5, rfc__n_estimators=50;, score=0.742 total time=   0.9s\n",
      "[CV 1/5] END rfc__max_depth=5, rfc__min_samples_split=5, rfc__n_estimators=50;, score=0.742 total time=   1.1s\n",
      "[CV 3/5] END rfc__max_depth=5, rfc__min_samples_split=5, rfc__n_estimators=50;, score=0.760 total time=   1.0s\n",
      "[CV 2/5] END rfc__max_depth=5, rfc__min_samples_split=2, rfc__n_estimators=200;, score=0.739 total time=   2.6s\n",
      "[CV 1/5] END rfc__max_depth=5, rfc__min_samples_split=2, rfc__n_estimators=200;, score=0.739 total time=   2.6s\n",
      "[CV 4/5] END rfc__max_depth=5, rfc__min_samples_split=5, rfc__n_estimators=50;, score=0.746 total time=   0.9s\n",
      "[CV 5/5] END rfc__max_depth=5, rfc__min_samples_split=5, rfc__n_estimators=50;, score=0.753 total time=   0.9s\n",
      "[CV 3/5] END rfc__max_depth=5, rfc__min_samples_split=2, rfc__n_estimators=200;, score=0.756 total time=   3.4s\n",
      "[CV 1/5] END rfc__max_depth=5, rfc__min_samples_split=5, rfc__n_estimators=100;, score=0.742 total time=   1.5s\n",
      "[CV 3/5] END rfc__max_depth=5, rfc__min_samples_split=5, rfc__n_estimators=100;, score=0.753 total time=   1.5s\n",
      "[CV 2/5] END rfc__max_depth=5, rfc__min_samples_split=5, rfc__n_estimators=100;, score=0.740 total time=   1.5s\n",
      "[CV 4/5] END rfc__max_depth=5, rfc__min_samples_split=2, rfc__n_estimators=200;, score=0.747 total time=   3.6s\n",
      "[CV 5/5] END rfc__max_depth=5, rfc__min_samples_split=2, rfc__n_estimators=200;, score=0.754 total time=   3.4s\n",
      "[CV 4/5] END rfc__max_depth=5, rfc__min_samples_split=5, rfc__n_estimators=100;, score=0.746 total time=   1.5s\n",
      "[CV 5/5] END rfc__max_depth=5, rfc__min_samples_split=5, rfc__n_estimators=100;, score=0.750 total time=   1.5s\n",
      "[CV 2/5] END rfc__max_depth=5, rfc__min_samples_split=10, rfc__n_estimators=50;, score=0.741 total time=   0.9s\n",
      "[CV 3/5] END rfc__max_depth=5, rfc__min_samples_split=10, rfc__n_estimators=50;, score=0.760 total time=   0.9s\n",
      "[CV 1/5] END rfc__max_depth=5, rfc__min_samples_split=10, rfc__n_estimators=50;, score=0.744 total time=   1.2s\n",
      "[CV 2/5] END rfc__max_depth=5, rfc__min_samples_split=5, rfc__n_estimators=200;, score=0.739 total time=   2.5s\n",
      "[CV 4/5] END rfc__max_depth=5, rfc__min_samples_split=10, rfc__n_estimators=50;, score=0.746 total time=   0.9s\n",
      "[CV 5/5] END rfc__max_depth=5, rfc__min_samples_split=10, rfc__n_estimators=50;, score=0.751 total time=   1.0s\n",
      "[CV 3/5] END rfc__max_depth=5, rfc__min_samples_split=5, rfc__n_estimators=200;, score=0.755 total time=   2.5s\n",
      "[CV 4/5] END rfc__max_depth=5, rfc__min_samples_split=5, rfc__n_estimators=200;, score=0.746 total time=   2.5s\n",
      "[CV 1/5] END rfc__max_depth=5, rfc__min_samples_split=5, rfc__n_estimators=200;, score=0.741 total time=   3.3s\n",
      "[CV 1/5] END rfc__max_depth=5, rfc__min_samples_split=10, rfc__n_estimators=100;, score=0.743 total time=   1.5s\n",
      "[CV 5/5] END rfc__max_depth=5, rfc__min_samples_split=5, rfc__n_estimators=200;, score=0.752 total time=   3.2s\n",
      "[CV 2/5] END rfc__max_depth=5, rfc__min_samples_split=10, rfc__n_estimators=100;, score=0.741 total time=   1.5s\n",
      "[CV 3/5] END rfc__max_depth=5, rfc__min_samples_split=10, rfc__n_estimators=100;, score=0.753 total time=   1.5s\n",
      "[CV 4/5] END rfc__max_depth=5, rfc__min_samples_split=10, rfc__n_estimators=100;, score=0.746 total time=   1.6s\n",
      "[CV 5/5] END rfc__max_depth=5, rfc__min_samples_split=10, rfc__n_estimators=100;, score=0.749 total time=   1.6s\n",
      "[CV 1/5] END rfc__max_depth=10, rfc__min_samples_split=2, rfc__n_estimators=50;, score=0.789 total time=   1.3s\n",
      "[CV 2/5] END rfc__max_depth=10, rfc__min_samples_split=2, rfc__n_estimators=50;, score=0.790 total time=   1.3s\n",
      "[CV 1/5] END rfc__max_depth=5, rfc__min_samples_split=10, rfc__n_estimators=200;, score=0.741 total time=   2.6s\n",
      "[CV 2/5] END rfc__max_depth=5, rfc__min_samples_split=10, rfc__n_estimators=200;, score=0.739 total time=   2.6s\n",
      "[CV 3/5] END rfc__max_depth=10, rfc__min_samples_split=2, rfc__n_estimators=50;, score=0.797 total time=   1.3s\n",
      "[CV 3/5] END rfc__max_depth=5, rfc__min_samples_split=10, rfc__n_estimators=200;, score=0.754 total time=   2.6s\n",
      "[CV 4/5] END rfc__max_depth=5, rfc__min_samples_split=10, rfc__n_estimators=200;, score=0.747 total time=   2.7s\n",
      "[CV 5/5] END rfc__max_depth=5, rfc__min_samples_split=10, rfc__n_estimators=200;, score=0.752 total time=   2.6s\n",
      "[CV 4/5] END rfc__max_depth=10, rfc__min_samples_split=2, rfc__n_estimators=50;, score=0.793 total time=   1.2s\n",
      "[CV 5/5] END rfc__max_depth=10, rfc__min_samples_split=2, rfc__n_estimators=50;, score=0.794 total time=   1.3s\n",
      "[CV 1/5] END rfc__max_depth=10, rfc__min_samples_split=2, rfc__n_estimators=100;, score=0.791 total time=   2.2s\n",
      "[CV 2/5] END rfc__max_depth=10, rfc__min_samples_split=2, rfc__n_estimators=100;, score=0.789 total time=   2.2s\n",
      "[CV 3/5] END rfc__max_depth=10, rfc__min_samples_split=2, rfc__n_estimators=100;, score=0.800 total time=   2.2s\n",
      "[CV 4/5] END rfc__max_depth=10, rfc__min_samples_split=2, rfc__n_estimators=100;, score=0.792 total time=   2.3s\n",
      "[CV 5/5] END rfc__max_depth=10, rfc__min_samples_split=2, rfc__n_estimators=100;, score=0.792 total time=   2.2s\n",
      "[CV 1/5] END rfc__max_depth=10, rfc__min_samples_split=5, rfc__n_estimators=50;, score=0.786 total time=   1.3s\n",
      "[CV 2/5] END rfc__max_depth=10, rfc__min_samples_split=5, rfc__n_estimators=50;, score=0.786 total time=   1.3s\n",
      "[CV 3/5] END rfc__max_depth=10, rfc__min_samples_split=5, rfc__n_estimators=50;, score=0.799 total time=   1.3s\n",
      "[CV 1/5] END rfc__max_depth=10, rfc__min_samples_split=2, rfc__n_estimators=200;, score=0.793 total time=   4.0s\n",
      "[CV 2/5] END rfc__max_depth=10, rfc__min_samples_split=2, rfc__n_estimators=200;, score=0.789 total time=   3.9s\n",
      "[CV 4/5] END rfc__max_depth=10, rfc__min_samples_split=5, rfc__n_estimators=50;, score=0.796 total time=   1.2s\n",
      "[CV 5/5] END rfc__max_depth=10, rfc__min_samples_split=5, rfc__n_estimators=50;, score=0.792 total time=   1.3s\n",
      "[CV 3/5] END rfc__max_depth=10, rfc__min_samples_split=2, rfc__n_estimators=200;, score=0.802 total time=   4.0s\n",
      "[CV 4/5] END rfc__max_depth=10, rfc__min_samples_split=2, rfc__n_estimators=200;, score=0.791 total time=   3.9s\n",
      "[CV 5/5] END rfc__max_depth=10, rfc__min_samples_split=2, rfc__n_estimators=200;, score=0.792 total time=   3.8s\n",
      "[CV 1/5] END rfc__max_depth=10, rfc__min_samples_split=5, rfc__n_estimators=100;, score=0.786 total time=   2.2s\n",
      "[CV 2/5] END rfc__max_depth=10, rfc__min_samples_split=5, rfc__n_estimators=100;, score=0.789 total time=   2.1s\n",
      "[CV 4/5] END rfc__max_depth=10, rfc__min_samples_split=5, rfc__n_estimators=100;, score=0.793 total time=   2.1s\n",
      "[CV 3/5] END rfc__max_depth=10, rfc__min_samples_split=5, rfc__n_estimators=100;, score=0.800 total time=   2.1s\n",
      "[CV 5/5] END rfc__max_depth=10, rfc__min_samples_split=5, rfc__n_estimators=100;, score=0.795 total time=   2.1s\n",
      "[CV 1/5] END rfc__max_depth=10, rfc__min_samples_split=10, rfc__n_estimators=50;, score=0.781 total time=   1.2s\n",
      "[CV 2/5] END rfc__max_depth=10, rfc__min_samples_split=10, rfc__n_estimators=50;, score=0.786 total time=   1.2s\n",
      "[CV 3/5] END rfc__max_depth=10, rfc__min_samples_split=10, rfc__n_estimators=50;, score=0.800 total time=   1.3s\n",
      "[CV 1/5] END rfc__max_depth=10, rfc__min_samples_split=5, rfc__n_estimators=200;, score=0.788 total time=   3.9s\n",
      "[CV 4/5] END rfc__max_depth=10, rfc__min_samples_split=10, rfc__n_estimators=50;, score=0.794 total time=   1.2s\n",
      "[CV 5/5] END rfc__max_depth=10, rfc__min_samples_split=10, rfc__n_estimators=50;, score=0.795 total time=   1.3s\n",
      "[CV 2/5] END rfc__max_depth=10, rfc__min_samples_split=5, rfc__n_estimators=200;, score=0.791 total time=   3.8s\n",
      "[CV 3/5] END rfc__max_depth=10, rfc__min_samples_split=5, rfc__n_estimators=200;, score=0.800 total time=   3.9s\n",
      "[CV 4/5] END rfc__max_depth=10, rfc__min_samples_split=5, rfc__n_estimators=200;, score=0.793 total time=   3.7s\n",
      "[CV 1/5] END rfc__max_depth=10, rfc__min_samples_split=10, rfc__n_estimators=100;, score=0.788 total time=   2.1s\n",
      "[CV 5/5] END rfc__max_depth=10, rfc__min_samples_split=5, rfc__n_estimators=200;, score=0.794 total time=   4.0s\n",
      "[CV 2/5] END rfc__max_depth=10, rfc__min_samples_split=10, rfc__n_estimators=100;, score=0.787 total time=   2.2s\n",
      "[CV 3/5] END rfc__max_depth=10, rfc__min_samples_split=10, rfc__n_estimators=100;, score=0.800 total time=   2.2s\n",
      "[CV 4/5] END rfc__max_depth=10, rfc__min_samples_split=10, rfc__n_estimators=100;, score=0.792 total time=   2.1s\n",
      "[CV 5/5] END rfc__max_depth=10, rfc__min_samples_split=10, rfc__n_estimators=100;, score=0.795 total time=   2.2s\n",
      "[CV 1/5] END rfc__max_depth=15, rfc__min_samples_split=2, rfc__n_estimators=50;, score=0.809 total time=   1.6s\n",
      "[CV 2/5] END rfc__max_depth=15, rfc__min_samples_split=2, rfc__n_estimators=50;, score=0.813 total time=   1.7s\n",
      "[CV 3/5] END rfc__max_depth=15, rfc__min_samples_split=2, rfc__n_estimators=50;, score=0.816 total time=   1.6s\n",
      "[CV 1/5] END rfc__max_depth=10, rfc__min_samples_split=10, rfc__n_estimators=200;, score=0.787 total time=   4.1s\n",
      "[CV 2/5] END rfc__max_depth=10, rfc__min_samples_split=10, rfc__n_estimators=200;, score=0.790 total time=   4.1s\n",
      "[CV 3/5] END rfc__max_depth=10, rfc__min_samples_split=10, rfc__n_estimators=200;, score=0.800 total time=   4.0s\n",
      "[CV 4/5] END rfc__max_depth=10, rfc__min_samples_split=10, rfc__n_estimators=200;, score=0.794 total time=   4.0s\n",
      "[CV 4/5] END rfc__max_depth=15, rfc__min_samples_split=2, rfc__n_estimators=50;, score=0.811 total time=   1.6s\n",
      "[CV 5/5] END rfc__max_depth=15, rfc__min_samples_split=2, rfc__n_estimators=50;, score=0.815 total time=   1.6s\n",
      "[CV 5/5] END rfc__max_depth=10, rfc__min_samples_split=10, rfc__n_estimators=200;, score=0.794 total time=   3.9s\n",
      "[CV 1/5] END rfc__max_depth=15, rfc__min_samples_split=2, rfc__n_estimators=100;, score=0.809 total time=   2.8s\n",
      "[CV 2/5] END rfc__max_depth=15, rfc__min_samples_split=2, rfc__n_estimators=100;, score=0.811 total time=   2.9s\n",
      "[CV 3/5] END rfc__max_depth=15, rfc__min_samples_split=2, rfc__n_estimators=100;, score=0.814 total time=   2.9s\n",
      "[CV 4/5] END rfc__max_depth=15, rfc__min_samples_split=2, rfc__n_estimators=100;, score=0.810 total time=   3.0s\n",
      "[CV 5/5] END rfc__max_depth=15, rfc__min_samples_split=2, rfc__n_estimators=100;, score=0.817 total time=   2.9s\n",
      "[CV 1/5] END rfc__max_depth=15, rfc__min_samples_split=5, rfc__n_estimators=50;, score=0.809 total time=   1.8s\n",
      "[CV 2/5] END rfc__max_depth=15, rfc__min_samples_split=5, rfc__n_estimators=50;, score=0.812 total time=   2.0s\n",
      "[CV 3/5] END rfc__max_depth=15, rfc__min_samples_split=5, rfc__n_estimators=50;, score=0.816 total time=   2.0s\n",
      "[CV 1/5] END rfc__max_depth=15, rfc__min_samples_split=2, rfc__n_estimators=200;, score=0.809 total time=   5.9s\n",
      "[CV 4/5] END rfc__max_depth=15, rfc__min_samples_split=5, rfc__n_estimators=50;, score=0.810 total time=   1.9s\n",
      "[CV 2/5] END rfc__max_depth=15, rfc__min_samples_split=2, rfc__n_estimators=200;, score=0.812 total time=   6.1s\n",
      "[CV 3/5] END rfc__max_depth=15, rfc__min_samples_split=2, rfc__n_estimators=200;, score=0.816 total time=   6.0s\n",
      "[CV 5/5] END rfc__max_depth=15, rfc__min_samples_split=5, rfc__n_estimators=50;, score=0.811 total time=   1.9s\n",
      "[CV 4/5] END rfc__max_depth=15, rfc__min_samples_split=2, rfc__n_estimators=200;, score=0.811 total time=   6.3s\n",
      "[CV 1/5] END rfc__max_depth=15, rfc__min_samples_split=5, rfc__n_estimators=100;, score=0.809 total time=   3.3s\n",
      "[CV 5/5] END rfc__max_depth=15, rfc__min_samples_split=2, rfc__n_estimators=200;, score=0.817 total time=   6.3s\n",
      "[CV 2/5] END rfc__max_depth=15, rfc__min_samples_split=5, rfc__n_estimators=100;, score=0.811 total time=   3.4s\n",
      "[CV 3/5] END rfc__max_depth=15, rfc__min_samples_split=5, rfc__n_estimators=100;, score=0.814 total time=   3.3s\n",
      "[CV 4/5] END rfc__max_depth=15, rfc__min_samples_split=5, rfc__n_estimators=100;, score=0.813 total time=   3.3s\n",
      "[CV 5/5] END rfc__max_depth=15, rfc__min_samples_split=5, rfc__n_estimators=100;, score=0.816 total time=   3.3s\n",
      "[CV 1/5] END rfc__max_depth=15, rfc__min_samples_split=10, rfc__n_estimators=50;, score=0.803 total time=   1.5s\n",
      "[CV 2/5] END rfc__max_depth=15, rfc__min_samples_split=10, rfc__n_estimators=50;, score=0.812 total time=   1.5s\n",
      "[CV 3/5] END rfc__max_depth=15, rfc__min_samples_split=10, rfc__n_estimators=50;, score=0.817 total time=   1.5s\n",
      "[CV 1/5] END rfc__max_depth=15, rfc__min_samples_split=5, rfc__n_estimators=200;, score=0.807 total time=   5.4s\n",
      "[CV 4/5] END rfc__max_depth=15, rfc__min_samples_split=10, rfc__n_estimators=50;, score=0.815 total time=   1.5s\n",
      "[CV 5/5] END rfc__max_depth=15, rfc__min_samples_split=10, rfc__n_estimators=50;, score=0.813 total time=   1.5s\n",
      "[CV 2/5] END rfc__max_depth=15, rfc__min_samples_split=5, rfc__n_estimators=200;, score=0.811 total time=   5.2s\n",
      "[CV 3/5] END rfc__max_depth=15, rfc__min_samples_split=5, rfc__n_estimators=200;, score=0.818 total time=   5.2s\n",
      "[CV 4/5] END rfc__max_depth=15, rfc__min_samples_split=5, rfc__n_estimators=200;, score=0.812 total time=   5.1s\n",
      "[CV 1/5] END rfc__max_depth=15, rfc__min_samples_split=10, rfc__n_estimators=100;, score=0.807 total time=   2.7s\n",
      "[CV 5/5] END rfc__max_depth=15, rfc__min_samples_split=5, rfc__n_estimators=200;, score=0.818 total time=   4.9s\n",
      "[CV 2/5] END rfc__max_depth=15, rfc__min_samples_split=10, rfc__n_estimators=100;, score=0.811 total time=   2.6s\n",
      "[CV 3/5] END rfc__max_depth=15, rfc__min_samples_split=10, rfc__n_estimators=100;, score=0.816 total time=   2.6s\n",
      "[CV 4/5] END rfc__max_depth=15, rfc__min_samples_split=10, rfc__n_estimators=100;, score=0.812 total time=   2.6s\n",
      "[CV 5/5] END rfc__max_depth=15, rfc__min_samples_split=10, rfc__n_estimators=100;, score=0.814 total time=   2.5s\n",
      "[CV 1/5] END rfc__max_depth=15, rfc__min_samples_split=10, rfc__n_estimators=200;, score=0.807 total time=   4.2s\n",
      "[CV 2/5] END rfc__max_depth=15, rfc__min_samples_split=10, rfc__n_estimators=200;, score=0.812 total time=   4.3s\n",
      "[CV 3/5] END rfc__max_depth=15, rfc__min_samples_split=10, rfc__n_estimators=200;, score=0.816 total time=   4.2s\n",
      "[CV 4/5] END rfc__max_depth=15, rfc__min_samples_split=10, rfc__n_estimators=200;, score=0.811 total time=   4.1s\n",
      "[CV 5/5] END rfc__max_depth=15, rfc__min_samples_split=10, rfc__n_estimators=200;, score=0.815 total time=   3.8s\n",
      "Fitting 5 folds for each of 36 candidates, totalling 180 fits\n"
     ]
    },
    {
     "name": "stderr",
     "output_type": "stream",
     "text": [
      "/Users/alexvarden/.pyenv/versions/3.9.6/lib/python3.9/site-packages/sklearn/neural_network/_multilayer_perceptron.py:684: ConvergenceWarning: Stochastic Optimizer: Maximum iterations (100) reached and the optimization hasn't converged yet.\n",
      "  warnings.warn(\n",
      "/Users/alexvarden/.pyenv/versions/3.9.6/lib/python3.9/site-packages/sklearn/neural_network/_multilayer_perceptron.py:684: ConvergenceWarning: Stochastic Optimizer: Maximum iterations (100) reached and the optimization hasn't converged yet.\n",
      "  warnings.warn(\n",
      "/Users/alexvarden/.pyenv/versions/3.9.6/lib/python3.9/site-packages/sklearn/neural_network/_multilayer_perceptron.py:684: ConvergenceWarning: Stochastic Optimizer: Maximum iterations (100) reached and the optimization hasn't converged yet.\n",
      "  warnings.warn(\n",
      "/Users/alexvarden/.pyenv/versions/3.9.6/lib/python3.9/site-packages/sklearn/neural_network/_multilayer_perceptron.py:684: ConvergenceWarning: Stochastic Optimizer: Maximum iterations (100) reached and the optimization hasn't converged yet.\n",
      "  warnings.warn(\n"
     ]
    },
    {
     "name": "stdout",
     "output_type": "stream",
     "text": [
      "[CV 4/5] END mlp__alpha=0.0001, mlp__hidden_layer_sizes=(50,), mlp__max_iter=100;, score=0.836 total time=   9.7s\n",
      "[CV 2/5] END mlp__alpha=0.0001, mlp__hidden_layer_sizes=(50,), mlp__max_iter=100;, score=0.828 total time=   9.7s\n",
      "[CV 3/5] END mlp__alpha=0.0001, mlp__hidden_layer_sizes=(50,), mlp__max_iter=100;, score=0.827 total time=   9.8s\n",
      "[CV 5/5] END mlp__alpha=0.0001, mlp__hidden_layer_sizes=(50,), mlp__max_iter=100;, score=0.835 total time=   9.8s\n",
      "[CV 1/5] END mlp__alpha=0.0001, mlp__hidden_layer_sizes=(50,), mlp__max_iter=100;, score=0.808 total time=   9.9s\n"
     ]
    },
    {
     "name": "stderr",
     "output_type": "stream",
     "text": [
      "/Users/alexvarden/.pyenv/versions/3.9.6/lib/python3.9/site-packages/sklearn/neural_network/_multilayer_perceptron.py:684: ConvergenceWarning: Stochastic Optimizer: Maximum iterations (100) reached and the optimization hasn't converged yet.\n",
      "  warnings.warn(\n",
      "/Users/alexvarden/.pyenv/versions/3.9.6/lib/python3.9/site-packages/sklearn/neural_network/_multilayer_perceptron.py:684: ConvergenceWarning: Stochastic Optimizer: Maximum iterations (200) reached and the optimization hasn't converged yet.\n",
      "  warnings.warn(\n",
      "/Users/alexvarden/.pyenv/versions/3.9.6/lib/python3.9/site-packages/sklearn/neural_network/_multilayer_perceptron.py:684: ConvergenceWarning: Stochastic Optimizer: Maximum iterations (200) reached and the optimization hasn't converged yet.\n",
      "  warnings.warn(\n"
     ]
    },
    {
     "name": "stdout",
     "output_type": "stream",
     "text": [
      "[CV 2/5] END mlp__alpha=0.0001, mlp__hidden_layer_sizes=(50,), mlp__max_iter=200;, score=0.826 total time=  19.1s\n",
      "[CV 3/5] END mlp__alpha=0.0001, mlp__hidden_layer_sizes=(50,), mlp__max_iter=200;, score=0.826 total time=  19.1s\n",
      "[CV 1/5] END mlp__alpha=0.0001, mlp__hidden_layer_sizes=(50,), mlp__max_iter=200;, score=0.806 total time=  19.2s\n",
      "[CV 3/5] END mlp__alpha=0.0001, mlp__hidden_layer_sizes=(50,), mlp__max_iter=300;, score=0.826 total time=  18.1s\n",
      "[CV 5/5] END mlp__alpha=0.0001, mlp__hidden_layer_sizes=(50,), mlp__max_iter=200;, score=0.830 total time=  18.4s\n"
     ]
    },
    {
     "name": "stderr",
     "output_type": "stream",
     "text": [
      "/Users/alexvarden/.pyenv/versions/3.9.6/lib/python3.9/site-packages/sklearn/neural_network/_multilayer_perceptron.py:684: ConvergenceWarning: Stochastic Optimizer: Maximum iterations (200) reached and the optimization hasn't converged yet.\n",
      "  warnings.warn(\n",
      "/Users/alexvarden/.pyenv/versions/3.9.6/lib/python3.9/site-packages/sklearn/neural_network/_multilayer_perceptron.py:684: ConvergenceWarning: Stochastic Optimizer: Maximum iterations (200) reached and the optimization hasn't converged yet.\n",
      "  warnings.warn(\n"
     ]
    },
    {
     "name": "stdout",
     "output_type": "stream",
     "text": [
      "[CV 4/5] END mlp__alpha=0.0001, mlp__hidden_layer_sizes=(50,), mlp__max_iter=200;, score=0.822 total time=  19.2s\n"
     ]
    },
    {
     "name": "stderr",
     "output_type": "stream",
     "text": [
      "/Users/alexvarden/.pyenv/versions/3.9.6/lib/python3.9/site-packages/sklearn/neural_network/_multilayer_perceptron.py:684: ConvergenceWarning: Stochastic Optimizer: Maximum iterations (100) reached and the optimization hasn't converged yet.\n",
      "  warnings.warn(\n"
     ]
    },
    {
     "name": "stdout",
     "output_type": "stream",
     "text": [
      "[CV 1/5] END mlp__alpha=0.0001, mlp__hidden_layer_sizes=(100,), mlp__max_iter=100;, score=0.805 total time=  14.0s\n",
      "[CV 1/5] END mlp__alpha=0.0001, mlp__hidden_layer_sizes=(50,), mlp__max_iter=300;, score=0.810 total time=  23.7s\n"
     ]
    },
    {
     "name": "stderr",
     "output_type": "stream",
     "text": [
      "/Users/alexvarden/.pyenv/versions/3.9.6/lib/python3.9/site-packages/sklearn/neural_network/_multilayer_perceptron.py:684: ConvergenceWarning: Stochastic Optimizer: Maximum iterations (300) reached and the optimization hasn't converged yet.\n",
      "  warnings.warn(\n"
     ]
    },
    {
     "name": "stdout",
     "output_type": "stream",
     "text": [
      "[CV 2/5] END mlp__alpha=0.0001, mlp__hidden_layer_sizes=(50,), mlp__max_iter=300;, score=0.830 total time=  28.3s\n"
     ]
    },
    {
     "name": "stderr",
     "output_type": "stream",
     "text": [
      "/Users/alexvarden/.pyenv/versions/3.9.6/lib/python3.9/site-packages/sklearn/neural_network/_multilayer_perceptron.py:684: ConvergenceWarning: Stochastic Optimizer: Maximum iterations (100) reached and the optimization hasn't converged yet.\n",
      "  warnings.warn(\n"
     ]
    },
    {
     "name": "stdout",
     "output_type": "stream",
     "text": [
      "[CV 2/5] END mlp__alpha=0.0001, mlp__hidden_layer_sizes=(100,), mlp__max_iter=100;, score=0.825 total time=  13.6s\n"
     ]
    },
    {
     "name": "stderr",
     "output_type": "stream",
     "text": [
      "/Users/alexvarden/.pyenv/versions/3.9.6/lib/python3.9/site-packages/sklearn/neural_network/_multilayer_perceptron.py:684: ConvergenceWarning: Stochastic Optimizer: Maximum iterations (100) reached and the optimization hasn't converged yet.\n",
      "  warnings.warn(\n"
     ]
    },
    {
     "name": "stdout",
     "output_type": "stream",
     "text": [
      "[CV 3/5] END mlp__alpha=0.0001, mlp__hidden_layer_sizes=(100,), mlp__max_iter=100;, score=0.825 total time=  13.8s\n"
     ]
    },
    {
     "name": "stderr",
     "output_type": "stream",
     "text": [
      "/Users/alexvarden/.pyenv/versions/3.9.6/lib/python3.9/site-packages/sklearn/neural_network/_multilayer_perceptron.py:684: ConvergenceWarning: Stochastic Optimizer: Maximum iterations (100) reached and the optimization hasn't converged yet.\n",
      "  warnings.warn(\n"
     ]
    },
    {
     "name": "stdout",
     "output_type": "stream",
     "text": [
      "[CV 4/5] END mlp__alpha=0.0001, mlp__hidden_layer_sizes=(100,), mlp__max_iter=100;, score=0.824 total time=  14.0s\n",
      "[CV 4/5] END mlp__alpha=0.0001, mlp__hidden_layer_sizes=(50,), mlp__max_iter=300;, score=0.821 total time=  25.8s\n"
     ]
    },
    {
     "name": "stderr",
     "output_type": "stream",
     "text": [
      "/Users/alexvarden/.pyenv/versions/3.9.6/lib/python3.9/site-packages/sklearn/neural_network/_multilayer_perceptron.py:684: ConvergenceWarning: Stochastic Optimizer: Maximum iterations (300) reached and the optimization hasn't converged yet.\n",
      "  warnings.warn(\n"
     ]
    },
    {
     "name": "stdout",
     "output_type": "stream",
     "text": [
      "[CV 5/5] END mlp__alpha=0.0001, mlp__hidden_layer_sizes=(50,), mlp__max_iter=300;, score=0.824 total time=  27.4s\n"
     ]
    },
    {
     "name": "stderr",
     "output_type": "stream",
     "text": [
      "/Users/alexvarden/.pyenv/versions/3.9.6/lib/python3.9/site-packages/sklearn/neural_network/_multilayer_perceptron.py:684: ConvergenceWarning: Stochastic Optimizer: Maximum iterations (100) reached and the optimization hasn't converged yet.\n",
      "  warnings.warn(\n"
     ]
    },
    {
     "name": "stdout",
     "output_type": "stream",
     "text": [
      "[CV 5/5] END mlp__alpha=0.0001, mlp__hidden_layer_sizes=(100,), mlp__max_iter=100;, score=0.832 total time=  13.9s\n"
     ]
    },
    {
     "name": "stderr",
     "output_type": "stream",
     "text": [
      "/Users/alexvarden/.pyenv/versions/3.9.6/lib/python3.9/site-packages/sklearn/neural_network/_multilayer_perceptron.py:684: ConvergenceWarning: Stochastic Optimizer: Maximum iterations (200) reached and the optimization hasn't converged yet.\n",
      "  warnings.warn(\n"
     ]
    },
    {
     "name": "stdout",
     "output_type": "stream",
     "text": [
      "[CV 1/5] END mlp__alpha=0.0001, mlp__hidden_layer_sizes=(100,), mlp__max_iter=200;, score=0.807 total time=  26.9s\n"
     ]
    },
    {
     "name": "stderr",
     "output_type": "stream",
     "text": [
      "/Users/alexvarden/.pyenv/versions/3.9.6/lib/python3.9/site-packages/sklearn/neural_network/_multilayer_perceptron.py:684: ConvergenceWarning: Stochastic Optimizer: Maximum iterations (200) reached and the optimization hasn't converged yet.\n",
      "  warnings.warn(\n"
     ]
    },
    {
     "name": "stdout",
     "output_type": "stream",
     "text": [
      "[CV 2/5] END mlp__alpha=0.0001, mlp__hidden_layer_sizes=(100,), mlp__max_iter=200;, score=0.816 total time=  27.4s\n",
      "[CV 5/5] END mlp__alpha=0.0001, mlp__hidden_layer_sizes=(100,), mlp__max_iter=200;, score=0.831 total time=  23.0s\n"
     ]
    },
    {
     "name": "stderr",
     "output_type": "stream",
     "text": [
      "/Users/alexvarden/.pyenv/versions/3.9.6/lib/python3.9/site-packages/sklearn/neural_network/_multilayer_perceptron.py:684: ConvergenceWarning: Stochastic Optimizer: Maximum iterations (200) reached and the optimization hasn't converged yet.\n",
      "  warnings.warn(\n"
     ]
    },
    {
     "name": "stdout",
     "output_type": "stream",
     "text": [
      "[CV 3/5] END mlp__alpha=0.0001, mlp__hidden_layer_sizes=(100,), mlp__max_iter=200;, score=0.824 total time=  26.4s\n"
     ]
    },
    {
     "name": "stderr",
     "output_type": "stream",
     "text": [
      "/Users/alexvarden/.pyenv/versions/3.9.6/lib/python3.9/site-packages/sklearn/neural_network/_multilayer_perceptron.py:684: ConvergenceWarning: Stochastic Optimizer: Maximum iterations (200) reached and the optimization hasn't converged yet.\n",
      "  warnings.warn(\n"
     ]
    },
    {
     "name": "stdout",
     "output_type": "stream",
     "text": [
      "[CV 4/5] END mlp__alpha=0.0001, mlp__hidden_layer_sizes=(100,), mlp__max_iter=200;, score=0.819 total time=  26.9s\n"
     ]
    },
    {
     "name": "stderr",
     "output_type": "stream",
     "text": [
      "/Users/alexvarden/.pyenv/versions/3.9.6/lib/python3.9/site-packages/sklearn/neural_network/_multilayer_perceptron.py:684: ConvergenceWarning: Stochastic Optimizer: Maximum iterations (100) reached and the optimization hasn't converged yet.\n",
      "  warnings.warn(\n"
     ]
    },
    {
     "name": "stdout",
     "output_type": "stream",
     "text": [
      "[CV 1/5] END mlp__alpha=0.0001, mlp__hidden_layer_sizes=(50, 50), mlp__max_iter=100;, score=0.810 total time=  14.0s\n"
     ]
    },
    {
     "name": "stderr",
     "output_type": "stream",
     "text": [
      "/Users/alexvarden/.pyenv/versions/3.9.6/lib/python3.9/site-packages/sklearn/neural_network/_multilayer_perceptron.py:684: ConvergenceWarning: Stochastic Optimizer: Maximum iterations (100) reached and the optimization hasn't converged yet.\n",
      "  warnings.warn(\n"
     ]
    },
    {
     "name": "stdout",
     "output_type": "stream",
     "text": [
      "[CV 2/5] END mlp__alpha=0.0001, mlp__hidden_layer_sizes=(50, 50), mlp__max_iter=100;, score=0.820 total time=  13.6s\n",
      "[CV 2/5] END mlp__alpha=0.0001, mlp__hidden_layer_sizes=(100,), mlp__max_iter=300;, score=0.820 total time=  35.7s\n",
      "[CV 3/5] END mlp__alpha=0.0001, mlp__hidden_layer_sizes=(50, 50), mlp__max_iter=100;, score=0.819 total time=  13.5s\n"
     ]
    },
    {
     "name": "stderr",
     "output_type": "stream",
     "text": [
      "/Users/alexvarden/.pyenv/versions/3.9.6/lib/python3.9/site-packages/sklearn/neural_network/_multilayer_perceptron.py:684: ConvergenceWarning: Stochastic Optimizer: Maximum iterations (100) reached and the optimization hasn't converged yet.\n",
      "  warnings.warn(\n",
      "/Users/alexvarden/.pyenv/versions/3.9.6/lib/python3.9/site-packages/sklearn/neural_network/_multilayer_perceptron.py:684: ConvergenceWarning: Stochastic Optimizer: Maximum iterations (300) reached and the optimization hasn't converged yet.\n",
      "  warnings.warn(\n"
     ]
    },
    {
     "name": "stdout",
     "output_type": "stream",
     "text": [
      "[CV 1/5] END mlp__alpha=0.0001, mlp__hidden_layer_sizes=(100,), mlp__max_iter=300;, score=0.806 total time=  40.2s\n"
     ]
    },
    {
     "name": "stderr",
     "output_type": "stream",
     "text": [
      "/Users/alexvarden/.pyenv/versions/3.9.6/lib/python3.9/site-packages/sklearn/neural_network/_multilayer_perceptron.py:684: ConvergenceWarning: Stochastic Optimizer: Maximum iterations (300) reached and the optimization hasn't converged yet.\n",
      "  warnings.warn(\n"
     ]
    },
    {
     "name": "stdout",
     "output_type": "stream",
     "text": [
      "[CV 3/5] END mlp__alpha=0.0001, mlp__hidden_layer_sizes=(100,), mlp__max_iter=300;, score=0.818 total time=  40.9s\n",
      "[CV 5/5] END mlp__alpha=0.0001, mlp__hidden_layer_sizes=(100,), mlp__max_iter=300;, score=0.831 total time=  24.4s\n"
     ]
    },
    {
     "name": "stderr",
     "output_type": "stream",
     "text": [
      "/Users/alexvarden/.pyenv/versions/3.9.6/lib/python3.9/site-packages/sklearn/neural_network/_multilayer_perceptron.py:684: ConvergenceWarning: Stochastic Optimizer: Maximum iterations (100) reached and the optimization hasn't converged yet.\n",
      "  warnings.warn(\n"
     ]
    },
    {
     "name": "stdout",
     "output_type": "stream",
     "text": [
      "[CV 4/5] END mlp__alpha=0.0001, mlp__hidden_layer_sizes=(50, 50), mlp__max_iter=100;, score=0.816 total time=  14.3s\n"
     ]
    },
    {
     "name": "stderr",
     "output_type": "stream",
     "text": [
      "/Users/alexvarden/.pyenv/versions/3.9.6/lib/python3.9/site-packages/sklearn/neural_network/_multilayer_perceptron.py:684: ConvergenceWarning: Stochastic Optimizer: Maximum iterations (100) reached and the optimization hasn't converged yet.\n",
      "  warnings.warn(\n"
     ]
    },
    {
     "name": "stdout",
     "output_type": "stream",
     "text": [
      "[CV 5/5] END mlp__alpha=0.0001, mlp__hidden_layer_sizes=(50, 50), mlp__max_iter=100;, score=0.827 total time=  13.8s\n",
      "[CV 4/5] END mlp__alpha=0.0001, mlp__hidden_layer_sizes=(100,), mlp__max_iter=300;, score=0.819 total time=  38.9s\n"
     ]
    },
    {
     "name": "stderr",
     "output_type": "stream",
     "text": [
      "/Users/alexvarden/.pyenv/versions/3.9.6/lib/python3.9/site-packages/sklearn/neural_network/_multilayer_perceptron.py:684: ConvergenceWarning: Stochastic Optimizer: Maximum iterations (200) reached and the optimization hasn't converged yet.\n",
      "  warnings.warn(\n",
      "/Users/alexvarden/.pyenv/versions/3.9.6/lib/python3.9/site-packages/sklearn/neural_network/_multilayer_perceptron.py:684: ConvergenceWarning: Stochastic Optimizer: Maximum iterations (200) reached and the optimization hasn't converged yet.\n",
      "  warnings.warn(\n"
     ]
    },
    {
     "name": "stdout",
     "output_type": "stream",
     "text": [
      "[CV 1/5] END mlp__alpha=0.0001, mlp__hidden_layer_sizes=(50, 50), mlp__max_iter=200;, score=0.804 total time=  27.0s\n",
      "[CV 2/5] END mlp__alpha=0.0001, mlp__hidden_layer_sizes=(50, 50), mlp__max_iter=200;, score=0.811 total time=  27.2s\n"
     ]
    },
    {
     "name": "stderr",
     "output_type": "stream",
     "text": [
      "/Users/alexvarden/.pyenv/versions/3.9.6/lib/python3.9/site-packages/sklearn/neural_network/_multilayer_perceptron.py:684: ConvergenceWarning: Stochastic Optimizer: Maximum iterations (200) reached and the optimization hasn't converged yet.\n",
      "  warnings.warn(\n"
     ]
    },
    {
     "name": "stdout",
     "output_type": "stream",
     "text": [
      "[CV 3/5] END mlp__alpha=0.0001, mlp__hidden_layer_sizes=(50, 50), mlp__max_iter=200;, score=0.799 total time=  26.7s\n"
     ]
    },
    {
     "name": "stderr",
     "output_type": "stream",
     "text": [
      "/Users/alexvarden/.pyenv/versions/3.9.6/lib/python3.9/site-packages/sklearn/neural_network/_multilayer_perceptron.py:684: ConvergenceWarning: Stochastic Optimizer: Maximum iterations (200) reached and the optimization hasn't converged yet.\n",
      "  warnings.warn(\n"
     ]
    },
    {
     "name": "stdout",
     "output_type": "stream",
     "text": [
      "[CV 4/5] END mlp__alpha=0.0001, mlp__hidden_layer_sizes=(50, 50), mlp__max_iter=200;, score=0.817 total time=  25.7s\n"
     ]
    },
    {
     "name": "stderr",
     "output_type": "stream",
     "text": [
      "/Users/alexvarden/.pyenv/versions/3.9.6/lib/python3.9/site-packages/sklearn/neural_network/_multilayer_perceptron.py:684: ConvergenceWarning: Stochastic Optimizer: Maximum iterations (200) reached and the optimization hasn't converged yet.\n",
      "  warnings.warn(\n"
     ]
    },
    {
     "name": "stdout",
     "output_type": "stream",
     "text": [
      "[CV 5/5] END mlp__alpha=0.0001, mlp__hidden_layer_sizes=(50, 50), mlp__max_iter=200;, score=0.820 total time=  26.8s\n",
      "[CV 2/5] END mlp__alpha=0.0001, mlp__hidden_layer_sizes=(50, 50), mlp__max_iter=300;, score=0.815 total time=  32.0s\n"
     ]
    },
    {
     "name": "stderr",
     "output_type": "stream",
     "text": [
      "/Users/alexvarden/.pyenv/versions/3.9.6/lib/python3.9/site-packages/sklearn/neural_network/_multilayer_perceptron.py:684: ConvergenceWarning: Stochastic Optimizer: Maximum iterations (300) reached and the optimization hasn't converged yet.\n",
      "  warnings.warn(\n"
     ]
    },
    {
     "name": "stdout",
     "output_type": "stream",
     "text": [
      "[CV 1/5] END mlp__alpha=0.0001, mlp__hidden_layer_sizes=(50, 50), mlp__max_iter=300;, score=0.805 total time=  39.7s\n"
     ]
    },
    {
     "name": "stderr",
     "output_type": "stream",
     "text": [
      "/Users/alexvarden/.pyenv/versions/3.9.6/lib/python3.9/site-packages/sklearn/neural_network/_multilayer_perceptron.py:684: ConvergenceWarning: Stochastic Optimizer: Maximum iterations (100) reached and the optimization hasn't converged yet.\n",
      "  warnings.warn(\n"
     ]
    },
    {
     "name": "stdout",
     "output_type": "stream",
     "text": [
      "[CV 1/5] END mlp__alpha=0.0001, mlp__hidden_layer_sizes=(100, 100), mlp__max_iter=100;, score=0.810 total time=  24.1s\n"
     ]
    },
    {
     "name": "stderr",
     "output_type": "stream",
     "text": [
      "/Users/alexvarden/.pyenv/versions/3.9.6/lib/python3.9/site-packages/sklearn/neural_network/_multilayer_perceptron.py:684: ConvergenceWarning: Stochastic Optimizer: Maximum iterations (100) reached and the optimization hasn't converged yet.\n",
      "  warnings.warn(\n",
      "/Users/alexvarden/.pyenv/versions/3.9.6/lib/python3.9/site-packages/sklearn/neural_network/_multilayer_perceptron.py:684: ConvergenceWarning: Stochastic Optimizer: Maximum iterations (300) reached and the optimization hasn't converged yet.\n",
      "  warnings.warn(\n"
     ]
    },
    {
     "name": "stdout",
     "output_type": "stream",
     "text": [
      "[CV 2/5] END mlp__alpha=0.0001, mlp__hidden_layer_sizes=(100, 100), mlp__max_iter=100;, score=0.821 total time=  24.0s\n",
      "[CV 3/5] END mlp__alpha=0.0001, mlp__hidden_layer_sizes=(50, 50), mlp__max_iter=300;, score=0.815 total time=  38.6s\n"
     ]
    },
    {
     "name": "stderr",
     "output_type": "stream",
     "text": [
      "/Users/alexvarden/.pyenv/versions/3.9.6/lib/python3.9/site-packages/sklearn/neural_network/_multilayer_perceptron.py:684: ConvergenceWarning: Stochastic Optimizer: Maximum iterations (100) reached and the optimization hasn't converged yet.\n",
      "  warnings.warn(\n"
     ]
    },
    {
     "name": "stdout",
     "output_type": "stream",
     "text": [
      "[CV 3/5] END mlp__alpha=0.0001, mlp__hidden_layer_sizes=(100, 100), mlp__max_iter=100;, score=0.820 total time=  23.9s\n",
      "[CV 4/5] END mlp__alpha=0.0001, mlp__hidden_layer_sizes=(50, 50), mlp__max_iter=300;, score=0.801 total time=  37.9s\n"
     ]
    },
    {
     "name": "stderr",
     "output_type": "stream",
     "text": [
      "/Users/alexvarden/.pyenv/versions/3.9.6/lib/python3.9/site-packages/sklearn/neural_network/_multilayer_perceptron.py:684: ConvergenceWarning: Stochastic Optimizer: Maximum iterations (300) reached and the optimization hasn't converged yet.\n",
      "  warnings.warn(\n"
     ]
    },
    {
     "name": "stdout",
     "output_type": "stream",
     "text": [
      "[CV 5/5] END mlp__alpha=0.0001, mlp__hidden_layer_sizes=(50, 50), mlp__max_iter=300;, score=0.822 total time=  38.6s\n"
     ]
    },
    {
     "name": "stderr",
     "output_type": "stream",
     "text": [
      "/Users/alexvarden/.pyenv/versions/3.9.6/lib/python3.9/site-packages/sklearn/neural_network/_multilayer_perceptron.py:684: ConvergenceWarning: Stochastic Optimizer: Maximum iterations (100) reached and the optimization hasn't converged yet.\n",
      "  warnings.warn(\n"
     ]
    },
    {
     "name": "stdout",
     "output_type": "stream",
     "text": [
      "[CV 4/5] END mlp__alpha=0.0001, mlp__hidden_layer_sizes=(100, 100), mlp__max_iter=100;, score=0.810 total time=  23.9s\n"
     ]
    },
    {
     "name": "stderr",
     "output_type": "stream",
     "text": [
      "/Users/alexvarden/.pyenv/versions/3.9.6/lib/python3.9/site-packages/sklearn/neural_network/_multilayer_perceptron.py:684: ConvergenceWarning: Stochastic Optimizer: Maximum iterations (100) reached and the optimization hasn't converged yet.\n",
      "  warnings.warn(\n"
     ]
    },
    {
     "name": "stdout",
     "output_type": "stream",
     "text": [
      "[CV 5/5] END mlp__alpha=0.0001, mlp__hidden_layer_sizes=(100, 100), mlp__max_iter=100;, score=0.820 total time=  25.0s\n"
     ]
    },
    {
     "name": "stderr",
     "output_type": "stream",
     "text": [
      "/Users/alexvarden/.pyenv/versions/3.9.6/lib/python3.9/site-packages/sklearn/neural_network/_multilayer_perceptron.py:684: ConvergenceWarning: Stochastic Optimizer: Maximum iterations (200) reached and the optimization hasn't converged yet.\n",
      "  warnings.warn(\n"
     ]
    },
    {
     "name": "stdout",
     "output_type": "stream",
     "text": [
      "[CV 1/5] END mlp__alpha=0.0001, mlp__hidden_layer_sizes=(100, 100), mlp__max_iter=200;, score=0.804 total time=  48.1s\n"
     ]
    },
    {
     "name": "stderr",
     "output_type": "stream",
     "text": [
      "/Users/alexvarden/.pyenv/versions/3.9.6/lib/python3.9/site-packages/sklearn/neural_network/_multilayer_perceptron.py:684: ConvergenceWarning: Stochastic Optimizer: Maximum iterations (200) reached and the optimization hasn't converged yet.\n",
      "  warnings.warn(\n"
     ]
    },
    {
     "name": "stdout",
     "output_type": "stream",
     "text": [
      "[CV 3/5] END mlp__alpha=0.0001, mlp__hidden_layer_sizes=(100, 100), mlp__max_iter=200;, score=0.809 total time=  47.7s\n"
     ]
    },
    {
     "name": "stderr",
     "output_type": "stream",
     "text": [
      "/Users/alexvarden/.pyenv/versions/3.9.6/lib/python3.9/site-packages/sklearn/neural_network/_multilayer_perceptron.py:684: ConvergenceWarning: Stochastic Optimizer: Maximum iterations (200) reached and the optimization hasn't converged yet.\n",
      "  warnings.warn(\n"
     ]
    },
    {
     "name": "stdout",
     "output_type": "stream",
     "text": [
      "[CV 2/5] END mlp__alpha=0.0001, mlp__hidden_layer_sizes=(100, 100), mlp__max_iter=200;, score=0.807 total time=  48.8s\n"
     ]
    },
    {
     "name": "stderr",
     "output_type": "stream",
     "text": [
      "/Users/alexvarden/.pyenv/versions/3.9.6/lib/python3.9/site-packages/sklearn/neural_network/_multilayer_perceptron.py:684: ConvergenceWarning: Stochastic Optimizer: Maximum iterations (200) reached and the optimization hasn't converged yet.\n",
      "  warnings.warn(\n"
     ]
    },
    {
     "name": "stdout",
     "output_type": "stream",
     "text": [
      "[CV 4/5] END mlp__alpha=0.0001, mlp__hidden_layer_sizes=(100, 100), mlp__max_iter=200;, score=0.810 total time=  48.9s\n"
     ]
    },
    {
     "name": "stderr",
     "output_type": "stream",
     "text": [
      "/Users/alexvarden/.pyenv/versions/3.9.6/lib/python3.9/site-packages/sklearn/neural_network/_multilayer_perceptron.py:684: ConvergenceWarning: Stochastic Optimizer: Maximum iterations (200) reached and the optimization hasn't converged yet.\n",
      "  warnings.warn(\n"
     ]
    },
    {
     "name": "stdout",
     "output_type": "stream",
     "text": [
      "[CV 5/5] END mlp__alpha=0.0001, mlp__hidden_layer_sizes=(100, 100), mlp__max_iter=200;, score=0.807 total time=  48.0s\n"
     ]
    },
    {
     "name": "stderr",
     "output_type": "stream",
     "text": [
      "/Users/alexvarden/.pyenv/versions/3.9.6/lib/python3.9/site-packages/sklearn/neural_network/_multilayer_perceptron.py:684: ConvergenceWarning: Stochastic Optimizer: Maximum iterations (100) reached and the optimization hasn't converged yet.\n",
      "  warnings.warn(\n"
     ]
    },
    {
     "name": "stdout",
     "output_type": "stream",
     "text": [
      "[CV 1/5] END mlp__alpha=0.001, mlp__hidden_layer_sizes=(50,), mlp__max_iter=100;, score=0.808 total time=   9.2s\n"
     ]
    },
    {
     "name": "stderr",
     "output_type": "stream",
     "text": [
      "/Users/alexvarden/.pyenv/versions/3.9.6/lib/python3.9/site-packages/sklearn/neural_network/_multilayer_perceptron.py:684: ConvergenceWarning: Stochastic Optimizer: Maximum iterations (100) reached and the optimization hasn't converged yet.\n",
      "  warnings.warn(\n"
     ]
    },
    {
     "name": "stdout",
     "output_type": "stream",
     "text": [
      "[CV 2/5] END mlp__alpha=0.001, mlp__hidden_layer_sizes=(50,), mlp__max_iter=100;, score=0.832 total time=   9.4s\n"
     ]
    },
    {
     "name": "stderr",
     "output_type": "stream",
     "text": [
      "/Users/alexvarden/.pyenv/versions/3.9.6/lib/python3.9/site-packages/sklearn/neural_network/_multilayer_perceptron.py:684: ConvergenceWarning: Stochastic Optimizer: Maximum iterations (100) reached and the optimization hasn't converged yet.\n",
      "  warnings.warn(\n"
     ]
    },
    {
     "name": "stdout",
     "output_type": "stream",
     "text": [
      "[CV 3/5] END mlp__alpha=0.001, mlp__hidden_layer_sizes=(50,), mlp__max_iter=100;, score=0.827 total time=   9.0s\n"
     ]
    },
    {
     "name": "stderr",
     "output_type": "stream",
     "text": [
      "/Users/alexvarden/.pyenv/versions/3.9.6/lib/python3.9/site-packages/sklearn/neural_network/_multilayer_perceptron.py:684: ConvergenceWarning: Stochastic Optimizer: Maximum iterations (100) reached and the optimization hasn't converged yet.\n",
      "  warnings.warn(\n"
     ]
    },
    {
     "name": "stdout",
     "output_type": "stream",
     "text": [
      "[CV 4/5] END mlp__alpha=0.001, mlp__hidden_layer_sizes=(50,), mlp__max_iter=100;, score=0.835 total time=   9.5s\n",
      "[CV 2/5] END mlp__alpha=0.0001, mlp__hidden_layer_sizes=(100, 100), mlp__max_iter=300;, score=0.807 total time=  56.1s\n"
     ]
    },
    {
     "name": "stderr",
     "output_type": "stream",
     "text": [
      "/Users/alexvarden/.pyenv/versions/3.9.6/lib/python3.9/site-packages/sklearn/neural_network/_multilayer_perceptron.py:684: ConvergenceWarning: Stochastic Optimizer: Maximum iterations (100) reached and the optimization hasn't converged yet.\n",
      "  warnings.warn(\n"
     ]
    },
    {
     "name": "stdout",
     "output_type": "stream",
     "text": [
      "[CV 5/5] END mlp__alpha=0.001, mlp__hidden_layer_sizes=(50,), mlp__max_iter=100;, score=0.834 total time=   9.7s\n",
      "[CV 1/5] END mlp__alpha=0.0001, mlp__hidden_layer_sizes=(100, 100), mlp__max_iter=300;, score=0.803 total time= 1.2min\n"
     ]
    },
    {
     "name": "stderr",
     "output_type": "stream",
     "text": [
      "/Users/alexvarden/.pyenv/versions/3.9.6/lib/python3.9/site-packages/sklearn/neural_network/_multilayer_perceptron.py:684: ConvergenceWarning: Stochastic Optimizer: Maximum iterations (200) reached and the optimization hasn't converged yet.\n",
      "  warnings.warn(\n"
     ]
    },
    {
     "name": "stdout",
     "output_type": "stream",
     "text": [
      "[CV 1/5] END mlp__alpha=0.001, mlp__hidden_layer_sizes=(50,), mlp__max_iter=200;, score=0.808 total time=  18.7s\n"
     ]
    },
    {
     "name": "stderr",
     "output_type": "stream",
     "text": [
      "/Users/alexvarden/.pyenv/versions/3.9.6/lib/python3.9/site-packages/sklearn/neural_network/_multilayer_perceptron.py:684: ConvergenceWarning: Stochastic Optimizer: Maximum iterations (200) reached and the optimization hasn't converged yet.\n",
      "  warnings.warn(\n"
     ]
    },
    {
     "name": "stdout",
     "output_type": "stream",
     "text": [
      "[CV 2/5] END mlp__alpha=0.001, mlp__hidden_layer_sizes=(50,), mlp__max_iter=200;, score=0.824 total time=  20.1s\n"
     ]
    },
    {
     "name": "stderr",
     "output_type": "stream",
     "text": [
      "/Users/alexvarden/.pyenv/versions/3.9.6/lib/python3.9/site-packages/sklearn/neural_network/_multilayer_perceptron.py:684: ConvergenceWarning: Stochastic Optimizer: Maximum iterations (200) reached and the optimization hasn't converged yet.\n",
      "  warnings.warn(\n"
     ]
    },
    {
     "name": "stdout",
     "output_type": "stream",
     "text": [
      "[CV 3/5] END mlp__alpha=0.001, mlp__hidden_layer_sizes=(50,), mlp__max_iter=200;, score=0.820 total time=  19.0s\n"
     ]
    },
    {
     "name": "stderr",
     "output_type": "stream",
     "text": [
      "/Users/alexvarden/.pyenv/versions/3.9.6/lib/python3.9/site-packages/sklearn/neural_network/_multilayer_perceptron.py:684: ConvergenceWarning: Stochastic Optimizer: Maximum iterations (200) reached and the optimization hasn't converged yet.\n",
      "  warnings.warn(\n"
     ]
    },
    {
     "name": "stdout",
     "output_type": "stream",
     "text": [
      "[CV 4/5] END mlp__alpha=0.001, mlp__hidden_layer_sizes=(50,), mlp__max_iter=200;, score=0.825 total time=  19.3s\n",
      "[CV 3/5] END mlp__alpha=0.0001, mlp__hidden_layer_sizes=(100, 100), mlp__max_iter=300;, score=0.811 total time= 1.2min\n"
     ]
    },
    {
     "name": "stderr",
     "output_type": "stream",
     "text": [
      "/Users/alexvarden/.pyenv/versions/3.9.6/lib/python3.9/site-packages/sklearn/neural_network/_multilayer_perceptron.py:684: ConvergenceWarning: Stochastic Optimizer: Maximum iterations (200) reached and the optimization hasn't converged yet.\n",
      "  warnings.warn(\n"
     ]
    },
    {
     "name": "stdout",
     "output_type": "stream",
     "text": [
      "[CV 5/5] END mlp__alpha=0.001, mlp__hidden_layer_sizes=(50,), mlp__max_iter=200;, score=0.834 total time=  18.9s\n",
      "[CV 4/5] END mlp__alpha=0.0001, mlp__hidden_layer_sizes=(100, 100), mlp__max_iter=300;, score=0.810 total time=  59.2s\n",
      "[CV 2/5] END mlp__alpha=0.001, mlp__hidden_layer_sizes=(50,), mlp__max_iter=300;, score=0.825 total time=  22.3s\n",
      "[CV 3/5] END mlp__alpha=0.001, mlp__hidden_layer_sizes=(50,), mlp__max_iter=300;, score=0.821 total time=  22.6s\n",
      "[CV 4/5] END mlp__alpha=0.001, mlp__hidden_layer_sizes=(50,), mlp__max_iter=300;, score=0.818 total time=  22.1s\n",
      "[CV 1/5] END mlp__alpha=0.001, mlp__hidden_layer_sizes=(50,), mlp__max_iter=300;, score=0.807 total time=  27.1s\n"
     ]
    },
    {
     "name": "stderr",
     "output_type": "stream",
     "text": [
      "/Users/alexvarden/.pyenv/versions/3.9.6/lib/python3.9/site-packages/sklearn/neural_network/_multilayer_perceptron.py:684: ConvergenceWarning: Stochastic Optimizer: Maximum iterations (100) reached and the optimization hasn't converged yet.\n",
      "  warnings.warn(\n"
     ]
    },
    {
     "name": "stdout",
     "output_type": "stream",
     "text": [
      "[CV 1/5] END mlp__alpha=0.001, mlp__hidden_layer_sizes=(100,), mlp__max_iter=100;, score=0.809 total time=  13.6s\n",
      "[CV 5/5] END mlp__alpha=0.001, mlp__hidden_layer_sizes=(50,), mlp__max_iter=300;, score=0.830 total time=  23.2s\n",
      "[CV 5/5] END mlp__alpha=0.0001, mlp__hidden_layer_sizes=(100, 100), mlp__max_iter=300;, score=0.809 total time= 1.2min\n"
     ]
    },
    {
     "name": "stderr",
     "output_type": "stream",
     "text": [
      "/Users/alexvarden/.pyenv/versions/3.9.6/lib/python3.9/site-packages/sklearn/neural_network/_multilayer_perceptron.py:684: ConvergenceWarning: Stochastic Optimizer: Maximum iterations (100) reached and the optimization hasn't converged yet.\n",
      "  warnings.warn(\n"
     ]
    },
    {
     "name": "stdout",
     "output_type": "stream",
     "text": [
      "[CV 2/5] END mlp__alpha=0.001, mlp__hidden_layer_sizes=(100,), mlp__max_iter=100;, score=0.825 total time=  13.6s\n"
     ]
    },
    {
     "name": "stderr",
     "output_type": "stream",
     "text": [
      "/Users/alexvarden/.pyenv/versions/3.9.6/lib/python3.9/site-packages/sklearn/neural_network/_multilayer_perceptron.py:684: ConvergenceWarning: Stochastic Optimizer: Maximum iterations (100) reached and the optimization hasn't converged yet.\n",
      "  warnings.warn(\n"
     ]
    },
    {
     "name": "stdout",
     "output_type": "stream",
     "text": [
      "[CV 3/5] END mlp__alpha=0.001, mlp__hidden_layer_sizes=(100,), mlp__max_iter=100;, score=0.824 total time=  13.9s\n"
     ]
    },
    {
     "name": "stderr",
     "output_type": "stream",
     "text": [
      "/Users/alexvarden/.pyenv/versions/3.9.6/lib/python3.9/site-packages/sklearn/neural_network/_multilayer_perceptron.py:684: ConvergenceWarning: Stochastic Optimizer: Maximum iterations (100) reached and the optimization hasn't converged yet.\n",
      "  warnings.warn(\n"
     ]
    },
    {
     "name": "stdout",
     "output_type": "stream",
     "text": [
      "[CV 4/5] END mlp__alpha=0.001, mlp__hidden_layer_sizes=(100,), mlp__max_iter=100;, score=0.826 total time=  13.6s\n"
     ]
    },
    {
     "name": "stderr",
     "output_type": "stream",
     "text": [
      "/Users/alexvarden/.pyenv/versions/3.9.6/lib/python3.9/site-packages/sklearn/neural_network/_multilayer_perceptron.py:684: ConvergenceWarning: Stochastic Optimizer: Maximum iterations (100) reached and the optimization hasn't converged yet.\n",
      "  warnings.warn(\n"
     ]
    },
    {
     "name": "stdout",
     "output_type": "stream",
     "text": [
      "[CV 5/5] END mlp__alpha=0.001, mlp__hidden_layer_sizes=(100,), mlp__max_iter=100;, score=0.828 total time=  13.7s\n"
     ]
    },
    {
     "name": "stderr",
     "output_type": "stream",
     "text": [
      "/Users/alexvarden/.pyenv/versions/3.9.6/lib/python3.9/site-packages/sklearn/neural_network/_multilayer_perceptron.py:684: ConvergenceWarning: Stochastic Optimizer: Maximum iterations (200) reached and the optimization hasn't converged yet.\n",
      "  warnings.warn(\n"
     ]
    },
    {
     "name": "stdout",
     "output_type": "stream",
     "text": [
      "[CV 1/5] END mlp__alpha=0.001, mlp__hidden_layer_sizes=(100,), mlp__max_iter=200;, score=0.806 total time=  27.9s\n"
     ]
    },
    {
     "name": "stderr",
     "output_type": "stream",
     "text": [
      "/Users/alexvarden/.pyenv/versions/3.9.6/lib/python3.9/site-packages/sklearn/neural_network/_multilayer_perceptron.py:684: ConvergenceWarning: Stochastic Optimizer: Maximum iterations (200) reached and the optimization hasn't converged yet.\n",
      "  warnings.warn(\n"
     ]
    },
    {
     "name": "stdout",
     "output_type": "stream",
     "text": [
      "[CV 2/5] END mlp__alpha=0.001, mlp__hidden_layer_sizes=(100,), mlp__max_iter=200;, score=0.813 total time=  27.5s\n"
     ]
    },
    {
     "name": "stderr",
     "output_type": "stream",
     "text": [
      "/Users/alexvarden/.pyenv/versions/3.9.6/lib/python3.9/site-packages/sklearn/neural_network/_multilayer_perceptron.py:684: ConvergenceWarning: Stochastic Optimizer: Maximum iterations (200) reached and the optimization hasn't converged yet.\n",
      "  warnings.warn(\n"
     ]
    },
    {
     "name": "stdout",
     "output_type": "stream",
     "text": [
      "[CV 3/5] END mlp__alpha=0.001, mlp__hidden_layer_sizes=(100,), mlp__max_iter=200;, score=0.822 total time=  27.5s\n"
     ]
    },
    {
     "name": "stderr",
     "output_type": "stream",
     "text": [
      "/Users/alexvarden/.pyenv/versions/3.9.6/lib/python3.9/site-packages/sklearn/neural_network/_multilayer_perceptron.py:684: ConvergenceWarning: Stochastic Optimizer: Maximum iterations (200) reached and the optimization hasn't converged yet.\n",
      "  warnings.warn(\n"
     ]
    },
    {
     "name": "stdout",
     "output_type": "stream",
     "text": [
      "[CV 4/5] END mlp__alpha=0.001, mlp__hidden_layer_sizes=(100,), mlp__max_iter=200;, score=0.820 total time=  27.6s\n"
     ]
    },
    {
     "name": "stderr",
     "output_type": "stream",
     "text": [
      "/Users/alexvarden/.pyenv/versions/3.9.6/lib/python3.9/site-packages/sklearn/neural_network/_multilayer_perceptron.py:684: ConvergenceWarning: Stochastic Optimizer: Maximum iterations (200) reached and the optimization hasn't converged yet.\n",
      "  warnings.warn(\n"
     ]
    },
    {
     "name": "stdout",
     "output_type": "stream",
     "text": [
      "[CV 5/5] END mlp__alpha=0.001, mlp__hidden_layer_sizes=(100,), mlp__max_iter=200;, score=0.825 total time=  27.7s\n"
     ]
    },
    {
     "name": "stderr",
     "output_type": "stream",
     "text": [
      "/Users/alexvarden/.pyenv/versions/3.9.6/lib/python3.9/site-packages/sklearn/neural_network/_multilayer_perceptron.py:684: ConvergenceWarning: Stochastic Optimizer: Maximum iterations (100) reached and the optimization hasn't converged yet.\n",
      "  warnings.warn(\n"
     ]
    },
    {
     "name": "stdout",
     "output_type": "stream",
     "text": [
      "[CV 1/5] END mlp__alpha=0.001, mlp__hidden_layer_sizes=(50, 50), mlp__max_iter=100;, score=0.810 total time=  14.3s\n",
      "[CV 2/5] END mlp__alpha=0.001, mlp__hidden_layer_sizes=(100,), mlp__max_iter=300;, score=0.818 total time=  32.7s\n"
     ]
    },
    {
     "name": "stderr",
     "output_type": "stream",
     "text": [
      "/Users/alexvarden/.pyenv/versions/3.9.6/lib/python3.9/site-packages/sklearn/neural_network/_multilayer_perceptron.py:684: ConvergenceWarning: Stochastic Optimizer: Maximum iterations (100) reached and the optimization hasn't converged yet.\n",
      "  warnings.warn(\n"
     ]
    },
    {
     "name": "stdout",
     "output_type": "stream",
     "text": [
      "[CV 2/5] END mlp__alpha=0.001, mlp__hidden_layer_sizes=(50, 50), mlp__max_iter=100;, score=0.822 total time=  13.9s\n"
     ]
    },
    {
     "name": "stderr",
     "output_type": "stream",
     "text": [
      "/Users/alexvarden/.pyenv/versions/3.9.6/lib/python3.9/site-packages/sklearn/neural_network/_multilayer_perceptron.py:684: ConvergenceWarning: Stochastic Optimizer: Maximum iterations (100) reached and the optimization hasn't converged yet.\n",
      "  warnings.warn(\n"
     ]
    },
    {
     "name": "stdout",
     "output_type": "stream",
     "text": [
      "[CV 3/5] END mlp__alpha=0.001, mlp__hidden_layer_sizes=(50, 50), mlp__max_iter=100;, score=0.813 total time=  13.4s\n",
      "[CV 1/5] END mlp__alpha=0.001, mlp__hidden_layer_sizes=(100,), mlp__max_iter=300;, score=0.805 total time=  38.0s\n"
     ]
    },
    {
     "name": "stderr",
     "output_type": "stream",
     "text": [
      "/Users/alexvarden/.pyenv/versions/3.9.6/lib/python3.9/site-packages/sklearn/neural_network/_multilayer_perceptron.py:684: ConvergenceWarning: Stochastic Optimizer: Maximum iterations (300) reached and the optimization hasn't converged yet.\n",
      "  warnings.warn(\n"
     ]
    },
    {
     "name": "stdout",
     "output_type": "stream",
     "text": [
      "[CV 3/5] END mlp__alpha=0.001, mlp__hidden_layer_sizes=(100,), mlp__max_iter=300;, score=0.817 total time=  41.1s\n"
     ]
    },
    {
     "name": "stderr",
     "output_type": "stream",
     "text": [
      "/Users/alexvarden/.pyenv/versions/3.9.6/lib/python3.9/site-packages/sklearn/neural_network/_multilayer_perceptron.py:684: ConvergenceWarning: Stochastic Optimizer: Maximum iterations (100) reached and the optimization hasn't converged yet.\n",
      "  warnings.warn(\n"
     ]
    },
    {
     "name": "stdout",
     "output_type": "stream",
     "text": [
      "[CV 4/5] END mlp__alpha=0.001, mlp__hidden_layer_sizes=(50, 50), mlp__max_iter=100;, score=0.823 total time=  13.5s\n"
     ]
    },
    {
     "name": "stderr",
     "output_type": "stream",
     "text": [
      "/Users/alexvarden/.pyenv/versions/3.9.6/lib/python3.9/site-packages/sklearn/neural_network/_multilayer_perceptron.py:684: ConvergenceWarning: Stochastic Optimizer: Maximum iterations (100) reached and the optimization hasn't converged yet.\n",
      "  warnings.warn(\n"
     ]
    },
    {
     "name": "stdout",
     "output_type": "stream",
     "text": [
      "[CV 5/5] END mlp__alpha=0.001, mlp__hidden_layer_sizes=(50, 50), mlp__max_iter=100;, score=0.824 total time=  13.9s\n",
      "[CV 4/5] END mlp__alpha=0.001, mlp__hidden_layer_sizes=(100,), mlp__max_iter=300;, score=0.822 total time=  33.4s\n"
     ]
    },
    {
     "name": "stderr",
     "output_type": "stream",
     "text": [
      "/Users/alexvarden/.pyenv/versions/3.9.6/lib/python3.9/site-packages/sklearn/neural_network/_multilayer_perceptron.py:684: ConvergenceWarning: Stochastic Optimizer: Maximum iterations (300) reached and the optimization hasn't converged yet.\n",
      "  warnings.warn(\n"
     ]
    },
    {
     "name": "stdout",
     "output_type": "stream",
     "text": [
      "[CV 5/5] END mlp__alpha=0.001, mlp__hidden_layer_sizes=(100,), mlp__max_iter=300;, score=0.826 total time=  41.2s\n"
     ]
    },
    {
     "name": "stderr",
     "output_type": "stream",
     "text": [
      "/Users/alexvarden/.pyenv/versions/3.9.6/lib/python3.9/site-packages/sklearn/neural_network/_multilayer_perceptron.py:684: ConvergenceWarning: Stochastic Optimizer: Maximum iterations (200) reached and the optimization hasn't converged yet.\n",
      "  warnings.warn(\n"
     ]
    },
    {
     "name": "stdout",
     "output_type": "stream",
     "text": [
      "[CV 1/5] END mlp__alpha=0.001, mlp__hidden_layer_sizes=(50, 50), mlp__max_iter=200;, score=0.804 total time=  27.2s\n"
     ]
    },
    {
     "name": "stderr",
     "output_type": "stream",
     "text": [
      "/Users/alexvarden/.pyenv/versions/3.9.6/lib/python3.9/site-packages/sklearn/neural_network/_multilayer_perceptron.py:684: ConvergenceWarning: Stochastic Optimizer: Maximum iterations (200) reached and the optimization hasn't converged yet.\n",
      "  warnings.warn(\n"
     ]
    },
    {
     "name": "stdout",
     "output_type": "stream",
     "text": [
      "[CV 2/5] END mlp__alpha=0.001, mlp__hidden_layer_sizes=(50, 50), mlp__max_iter=200;, score=0.817 total time=  27.1s\n"
     ]
    },
    {
     "name": "stderr",
     "output_type": "stream",
     "text": [
      "/Users/alexvarden/.pyenv/versions/3.9.6/lib/python3.9/site-packages/sklearn/neural_network/_multilayer_perceptron.py:684: ConvergenceWarning: Stochastic Optimizer: Maximum iterations (200) reached and the optimization hasn't converged yet.\n",
      "  warnings.warn(\n"
     ]
    },
    {
     "name": "stdout",
     "output_type": "stream",
     "text": [
      "[CV 3/5] END mlp__alpha=0.001, mlp__hidden_layer_sizes=(50, 50), mlp__max_iter=200;, score=0.802 total time=  26.8s\n"
     ]
    },
    {
     "name": "stderr",
     "output_type": "stream",
     "text": [
      "/Users/alexvarden/.pyenv/versions/3.9.6/lib/python3.9/site-packages/sklearn/neural_network/_multilayer_perceptron.py:684: ConvergenceWarning: Stochastic Optimizer: Maximum iterations (200) reached and the optimization hasn't converged yet.\n",
      "  warnings.warn(\n"
     ]
    },
    {
     "name": "stdout",
     "output_type": "stream",
     "text": [
      "[CV 4/5] END mlp__alpha=0.001, mlp__hidden_layer_sizes=(50, 50), mlp__max_iter=200;, score=0.813 total time=  26.9s\n"
     ]
    },
    {
     "name": "stderr",
     "output_type": "stream",
     "text": [
      "/Users/alexvarden/.pyenv/versions/3.9.6/lib/python3.9/site-packages/sklearn/neural_network/_multilayer_perceptron.py:684: ConvergenceWarning: Stochastic Optimizer: Maximum iterations (200) reached and the optimization hasn't converged yet.\n",
      "  warnings.warn(\n"
     ]
    },
    {
     "name": "stdout",
     "output_type": "stream",
     "text": [
      "[CV 5/5] END mlp__alpha=0.001, mlp__hidden_layer_sizes=(50, 50), mlp__max_iter=200;, score=0.819 total time=  27.3s\n",
      "[CV 1/5] END mlp__alpha=0.001, mlp__hidden_layer_sizes=(50, 50), mlp__max_iter=300;, score=0.794 total time=  39.5s\n"
     ]
    },
    {
     "name": "stderr",
     "output_type": "stream",
     "text": [
      "/Users/alexvarden/.pyenv/versions/3.9.6/lib/python3.9/site-packages/sklearn/neural_network/_multilayer_perceptron.py:684: ConvergenceWarning: Stochastic Optimizer: Maximum iterations (300) reached and the optimization hasn't converged yet.\n",
      "  warnings.warn(\n"
     ]
    },
    {
     "name": "stdout",
     "output_type": "stream",
     "text": [
      "[CV 2/5] END mlp__alpha=0.001, mlp__hidden_layer_sizes=(50, 50), mlp__max_iter=300;, score=0.815 total time=  39.3s\n"
     ]
    },
    {
     "name": "stderr",
     "output_type": "stream",
     "text": [
      "/Users/alexvarden/.pyenv/versions/3.9.6/lib/python3.9/site-packages/sklearn/neural_network/_multilayer_perceptron.py:684: ConvergenceWarning: Stochastic Optimizer: Maximum iterations (100) reached and the optimization hasn't converged yet.\n",
      "  warnings.warn(\n"
     ]
    },
    {
     "name": "stdout",
     "output_type": "stream",
     "text": [
      "[CV 1/5] END mlp__alpha=0.001, mlp__hidden_layer_sizes=(100, 100), mlp__max_iter=100;, score=0.805 total time=  24.6s\n"
     ]
    },
    {
     "name": "stderr",
     "output_type": "stream",
     "text": [
      "/Users/alexvarden/.pyenv/versions/3.9.6/lib/python3.9/site-packages/sklearn/neural_network/_multilayer_perceptron.py:684: ConvergenceWarning: Stochastic Optimizer: Maximum iterations (100) reached and the optimization hasn't converged yet.\n",
      "  warnings.warn(\n"
     ]
    },
    {
     "name": "stdout",
     "output_type": "stream",
     "text": [
      "[CV 2/5] END mlp__alpha=0.001, mlp__hidden_layer_sizes=(100, 100), mlp__max_iter=100;, score=0.828 total time=  24.3s\n",
      "[CV 3/5] END mlp__alpha=0.001, mlp__hidden_layer_sizes=(50, 50), mlp__max_iter=300;, score=0.812 total time=  37.2s\n"
     ]
    },
    {
     "name": "stderr",
     "output_type": "stream",
     "text": [
      "/Users/alexvarden/.pyenv/versions/3.9.6/lib/python3.9/site-packages/sklearn/neural_network/_multilayer_perceptron.py:684: ConvergenceWarning: Stochastic Optimizer: Maximum iterations (100) reached and the optimization hasn't converged yet.\n",
      "  warnings.warn(\n"
     ]
    },
    {
     "name": "stdout",
     "output_type": "stream",
     "text": [
      "[CV 3/5] END mlp__alpha=0.001, mlp__hidden_layer_sizes=(100, 100), mlp__max_iter=100;, score=0.814 total time=  23.8s\n",
      "[CV 5/5] END mlp__alpha=0.001, mlp__hidden_layer_sizes=(50, 50), mlp__max_iter=300;, score=0.812 total time=  34.4s\n",
      "[CV 4/5] END mlp__alpha=0.001, mlp__hidden_layer_sizes=(50, 50), mlp__max_iter=300;, score=0.802 total time=  39.2s\n"
     ]
    },
    {
     "name": "stderr",
     "output_type": "stream",
     "text": [
      "/Users/alexvarden/.pyenv/versions/3.9.6/lib/python3.9/site-packages/sklearn/neural_network/_multilayer_perceptron.py:684: ConvergenceWarning: Stochastic Optimizer: Maximum iterations (100) reached and the optimization hasn't converged yet.\n",
      "  warnings.warn(\n"
     ]
    },
    {
     "name": "stdout",
     "output_type": "stream",
     "text": [
      "[CV 4/5] END mlp__alpha=0.001, mlp__hidden_layer_sizes=(100, 100), mlp__max_iter=100;, score=0.815 total time=  23.1s\n"
     ]
    },
    {
     "name": "stderr",
     "output_type": "stream",
     "text": [
      "/Users/alexvarden/.pyenv/versions/3.9.6/lib/python3.9/site-packages/sklearn/neural_network/_multilayer_perceptron.py:684: ConvergenceWarning: Stochastic Optimizer: Maximum iterations (100) reached and the optimization hasn't converged yet.\n",
      "  warnings.warn(\n"
     ]
    },
    {
     "name": "stdout",
     "output_type": "stream",
     "text": [
      "[CV 5/5] END mlp__alpha=0.001, mlp__hidden_layer_sizes=(100, 100), mlp__max_iter=100;, score=0.811 total time=  23.4s\n"
     ]
    },
    {
     "name": "stderr",
     "output_type": "stream",
     "text": [
      "/Users/alexvarden/.pyenv/versions/3.9.6/lib/python3.9/site-packages/sklearn/neural_network/_multilayer_perceptron.py:684: ConvergenceWarning: Stochastic Optimizer: Maximum iterations (200) reached and the optimization hasn't converged yet.\n",
      "  warnings.warn(\n"
     ]
    },
    {
     "name": "stdout",
     "output_type": "stream",
     "text": [
      "[CV 1/5] END mlp__alpha=0.001, mlp__hidden_layer_sizes=(100, 100), mlp__max_iter=200;, score=0.798 total time=  47.3s\n"
     ]
    },
    {
     "name": "stderr",
     "output_type": "stream",
     "text": [
      "/Users/alexvarden/.pyenv/versions/3.9.6/lib/python3.9/site-packages/sklearn/neural_network/_multilayer_perceptron.py:684: ConvergenceWarning: Stochastic Optimizer: Maximum iterations (200) reached and the optimization hasn't converged yet.\n",
      "  warnings.warn(\n"
     ]
    },
    {
     "name": "stdout",
     "output_type": "stream",
     "text": [
      "[CV 2/5] END mlp__alpha=0.001, mlp__hidden_layer_sizes=(100, 100), mlp__max_iter=200;, score=0.813 total time=  48.1s\n"
     ]
    },
    {
     "name": "stderr",
     "output_type": "stream",
     "text": [
      "/Users/alexvarden/.pyenv/versions/3.9.6/lib/python3.9/site-packages/sklearn/neural_network/_multilayer_perceptron.py:684: ConvergenceWarning: Stochastic Optimizer: Maximum iterations (200) reached and the optimization hasn't converged yet.\n",
      "  warnings.warn(\n"
     ]
    },
    {
     "name": "stdout",
     "output_type": "stream",
     "text": [
      "[CV 3/5] END mlp__alpha=0.001, mlp__hidden_layer_sizes=(100, 100), mlp__max_iter=200;, score=0.808 total time=  47.2s\n"
     ]
    },
    {
     "name": "stderr",
     "output_type": "stream",
     "text": [
      "/Users/alexvarden/.pyenv/versions/3.9.6/lib/python3.9/site-packages/sklearn/neural_network/_multilayer_perceptron.py:684: ConvergenceWarning: Stochastic Optimizer: Maximum iterations (200) reached and the optimization hasn't converged yet.\n",
      "  warnings.warn(\n"
     ]
    },
    {
     "name": "stdout",
     "output_type": "stream",
     "text": [
      "[CV 5/5] END mlp__alpha=0.001, mlp__hidden_layer_sizes=(100, 100), mlp__max_iter=200;, score=0.811 total time=  48.0s\n"
     ]
    },
    {
     "name": "stderr",
     "output_type": "stream",
     "text": [
      "/Users/alexvarden/.pyenv/versions/3.9.6/lib/python3.9/site-packages/sklearn/neural_network/_multilayer_perceptron.py:684: ConvergenceWarning: Stochastic Optimizer: Maximum iterations (200) reached and the optimization hasn't converged yet.\n",
      "  warnings.warn(\n"
     ]
    },
    {
     "name": "stdout",
     "output_type": "stream",
     "text": [
      "[CV 4/5] END mlp__alpha=0.001, mlp__hidden_layer_sizes=(100, 100), mlp__max_iter=200;, score=0.816 total time=  48.4s\n"
     ]
    },
    {
     "name": "stderr",
     "output_type": "stream",
     "text": [
      "/Users/alexvarden/.pyenv/versions/3.9.6/lib/python3.9/site-packages/sklearn/neural_network/_multilayer_perceptron.py:684: ConvergenceWarning: Stochastic Optimizer: Maximum iterations (100) reached and the optimization hasn't converged yet.\n",
      "  warnings.warn(\n"
     ]
    },
    {
     "name": "stdout",
     "output_type": "stream",
     "text": [
      "[CV 1/5] END mlp__alpha=0.01, mlp__hidden_layer_sizes=(50,), mlp__max_iter=100;, score=0.811 total time=   9.9s\n"
     ]
    },
    {
     "name": "stderr",
     "output_type": "stream",
     "text": [
      "/Users/alexvarden/.pyenv/versions/3.9.6/lib/python3.9/site-packages/sklearn/neural_network/_multilayer_perceptron.py:684: ConvergenceWarning: Stochastic Optimizer: Maximum iterations (100) reached and the optimization hasn't converged yet.\n",
      "  warnings.warn(\n"
     ]
    },
    {
     "name": "stdout",
     "output_type": "stream",
     "text": [
      "[CV 2/5] END mlp__alpha=0.01, mlp__hidden_layer_sizes=(50,), mlp__max_iter=100;, score=0.830 total time=   9.5s\n"
     ]
    },
    {
     "name": "stderr",
     "output_type": "stream",
     "text": [
      "/Users/alexvarden/.pyenv/versions/3.9.6/lib/python3.9/site-packages/sklearn/neural_network/_multilayer_perceptron.py:684: ConvergenceWarning: Stochastic Optimizer: Maximum iterations (100) reached and the optimization hasn't converged yet.\n",
      "  warnings.warn(\n"
     ]
    },
    {
     "name": "stdout",
     "output_type": "stream",
     "text": [
      "[CV 3/5] END mlp__alpha=0.01, mlp__hidden_layer_sizes=(50,), mlp__max_iter=100;, score=0.830 total time=   9.7s\n",
      "[CV 1/5] END mlp__alpha=0.001, mlp__hidden_layer_sizes=(100, 100), mlp__max_iter=300;, score=0.792 total time=  58.0s\n"
     ]
    },
    {
     "name": "stderr",
     "output_type": "stream",
     "text": [
      "/Users/alexvarden/.pyenv/versions/3.9.6/lib/python3.9/site-packages/sklearn/neural_network/_multilayer_perceptron.py:684: ConvergenceWarning: Stochastic Optimizer: Maximum iterations (100) reached and the optimization hasn't converged yet.\n",
      "  warnings.warn(\n"
     ]
    },
    {
     "name": "stdout",
     "output_type": "stream",
     "text": [
      "[CV 4/5] END mlp__alpha=0.01, mlp__hidden_layer_sizes=(50,), mlp__max_iter=100;, score=0.836 total time=   9.9s\n"
     ]
    },
    {
     "name": "stderr",
     "output_type": "stream",
     "text": [
      "/Users/alexvarden/.pyenv/versions/3.9.6/lib/python3.9/site-packages/sklearn/neural_network/_multilayer_perceptron.py:684: ConvergenceWarning: Stochastic Optimizer: Maximum iterations (100) reached and the optimization hasn't converged yet.\n",
      "  warnings.warn(\n"
     ]
    },
    {
     "name": "stdout",
     "output_type": "stream",
     "text": [
      "[CV 5/5] END mlp__alpha=0.01, mlp__hidden_layer_sizes=(50,), mlp__max_iter=100;, score=0.835 total time=  10.7s\n",
      "[CV 1/5] END mlp__alpha=0.01, mlp__hidden_layer_sizes=(50,), mlp__max_iter=200;, score=0.814 total time=  19.3s\n",
      "[CV 2/5] END mlp__alpha=0.001, mlp__hidden_layer_sizes=(100, 100), mlp__max_iter=300;, score=0.805 total time= 1.1min\n",
      "[CV 3/5] END mlp__alpha=0.001, mlp__hidden_layer_sizes=(100, 100), mlp__max_iter=300;, score=0.816 total time= 1.1min\n",
      "[CV 2/5] END mlp__alpha=0.01, mlp__hidden_layer_sizes=(50,), mlp__max_iter=200;, score=0.829 total time=  20.0s\n"
     ]
    },
    {
     "name": "stderr",
     "output_type": "stream",
     "text": [
      "/Users/alexvarden/.pyenv/versions/3.9.6/lib/python3.9/site-packages/sklearn/neural_network/_multilayer_perceptron.py:684: ConvergenceWarning: Stochastic Optimizer: Maximum iterations (200) reached and the optimization hasn't converged yet.\n",
      "  warnings.warn(\n",
      "/Users/alexvarden/.pyenv/versions/3.9.6/lib/python3.9/site-packages/sklearn/neural_network/_multilayer_perceptron.py:684: ConvergenceWarning: Stochastic Optimizer: Maximum iterations (200) reached and the optimization hasn't converged yet.\n",
      "  warnings.warn(\n"
     ]
    },
    {
     "name": "stdout",
     "output_type": "stream",
     "text": [
      "[CV 3/5] END mlp__alpha=0.01, mlp__hidden_layer_sizes=(50,), mlp__max_iter=200;, score=0.821 total time=  20.7s\n"
     ]
    },
    {
     "name": "stderr",
     "output_type": "stream",
     "text": [
      "/Users/alexvarden/.pyenv/versions/3.9.6/lib/python3.9/site-packages/sklearn/neural_network/_multilayer_perceptron.py:684: ConvergenceWarning: Stochastic Optimizer: Maximum iterations (200) reached and the optimization hasn't converged yet.\n",
      "  warnings.warn(\n"
     ]
    },
    {
     "name": "stdout",
     "output_type": "stream",
     "text": [
      "[CV 4/5] END mlp__alpha=0.01, mlp__hidden_layer_sizes=(50,), mlp__max_iter=200;, score=0.825 total time=  20.8s\n"
     ]
    },
    {
     "name": "stderr",
     "output_type": "stream",
     "text": [
      "/Users/alexvarden/.pyenv/versions/3.9.6/lib/python3.9/site-packages/sklearn/neural_network/_multilayer_perceptron.py:684: ConvergenceWarning: Stochastic Optimizer: Maximum iterations (200) reached and the optimization hasn't converged yet.\n",
      "  warnings.warn(\n"
     ]
    },
    {
     "name": "stdout",
     "output_type": "stream",
     "text": [
      "[CV 5/5] END mlp__alpha=0.01, mlp__hidden_layer_sizes=(50,), mlp__max_iter=200;, score=0.833 total time=  20.8s\n",
      "[CV 4/5] END mlp__alpha=0.001, mlp__hidden_layer_sizes=(100, 100), mlp__max_iter=300;, score=0.813 total time= 1.0min\n",
      "[CV 1/5] END mlp__alpha=0.01, mlp__hidden_layer_sizes=(50,), mlp__max_iter=300;, score=0.814 total time=  19.1s\n",
      "[CV 5/5] END mlp__alpha=0.001, mlp__hidden_layer_sizes=(100, 100), mlp__max_iter=300;, score=0.823 total time=  58.4s\n",
      "[CV 2/5] END mlp__alpha=0.01, mlp__hidden_layer_sizes=(50,), mlp__max_iter=300;, score=0.826 total time=  23.4s\n",
      "[CV 4/5] END mlp__alpha=0.01, mlp__hidden_layer_sizes=(50,), mlp__max_iter=300;, score=0.827 total time=  21.5s\n"
     ]
    },
    {
     "name": "stderr",
     "output_type": "stream",
     "text": [
      "/Users/alexvarden/.pyenv/versions/3.9.6/lib/python3.9/site-packages/sklearn/neural_network/_multilayer_perceptron.py:684: ConvergenceWarning: Stochastic Optimizer: Maximum iterations (300) reached and the optimization hasn't converged yet.\n",
      "  warnings.warn(\n"
     ]
    },
    {
     "name": "stdout",
     "output_type": "stream",
     "text": [
      "[CV 3/5] END mlp__alpha=0.01, mlp__hidden_layer_sizes=(50,), mlp__max_iter=300;, score=0.821 total time=  29.8s\n"
     ]
    },
    {
     "name": "stderr",
     "output_type": "stream",
     "text": [
      "/Users/alexvarden/.pyenv/versions/3.9.6/lib/python3.9/site-packages/sklearn/neural_network/_multilayer_perceptron.py:684: ConvergenceWarning: Stochastic Optimizer: Maximum iterations (100) reached and the optimization hasn't converged yet.\n",
      "  warnings.warn(\n"
     ]
    },
    {
     "name": "stdout",
     "output_type": "stream",
     "text": [
      "[CV 1/5] END mlp__alpha=0.01, mlp__hidden_layer_sizes=(100,), mlp__max_iter=100;, score=0.806 total time=  14.8s\n"
     ]
    },
    {
     "name": "stderr",
     "output_type": "stream",
     "text": [
      "/Users/alexvarden/.pyenv/versions/3.9.6/lib/python3.9/site-packages/sklearn/neural_network/_multilayer_perceptron.py:684: ConvergenceWarning: Stochastic Optimizer: Maximum iterations (100) reached and the optimization hasn't converged yet.\n",
      "  warnings.warn(\n"
     ]
    },
    {
     "name": "stdout",
     "output_type": "stream",
     "text": [
      "[CV 2/5] END mlp__alpha=0.01, mlp__hidden_layer_sizes=(100,), mlp__max_iter=100;, score=0.826 total time=  14.6s\n",
      "[CV 5/5] END mlp__alpha=0.01, mlp__hidden_layer_sizes=(50,), mlp__max_iter=300;, score=0.824 total time=  24.9s\n"
     ]
    },
    {
     "name": "stderr",
     "output_type": "stream",
     "text": [
      "/Users/alexvarden/.pyenv/versions/3.9.6/lib/python3.9/site-packages/sklearn/neural_network/_multilayer_perceptron.py:684: ConvergenceWarning: Stochastic Optimizer: Maximum iterations (100) reached and the optimization hasn't converged yet.\n",
      "  warnings.warn(\n"
     ]
    },
    {
     "name": "stdout",
     "output_type": "stream",
     "text": [
      "[CV 3/5] END mlp__alpha=0.01, mlp__hidden_layer_sizes=(100,), mlp__max_iter=100;, score=0.828 total time=  14.9s\n"
     ]
    },
    {
     "name": "stderr",
     "output_type": "stream",
     "text": [
      "/Users/alexvarden/.pyenv/versions/3.9.6/lib/python3.9/site-packages/sklearn/neural_network/_multilayer_perceptron.py:684: ConvergenceWarning: Stochastic Optimizer: Maximum iterations (100) reached and the optimization hasn't converged yet.\n",
      "  warnings.warn(\n"
     ]
    },
    {
     "name": "stdout",
     "output_type": "stream",
     "text": [
      "[CV 4/5] END mlp__alpha=0.01, mlp__hidden_layer_sizes=(100,), mlp__max_iter=100;, score=0.821 total time=  14.5s\n"
     ]
    },
    {
     "name": "stderr",
     "output_type": "stream",
     "text": [
      "/Users/alexvarden/.pyenv/versions/3.9.6/lib/python3.9/site-packages/sklearn/neural_network/_multilayer_perceptron.py:684: ConvergenceWarning: Stochastic Optimizer: Maximum iterations (100) reached and the optimization hasn't converged yet.\n",
      "  warnings.warn(\n"
     ]
    },
    {
     "name": "stdout",
     "output_type": "stream",
     "text": [
      "[CV 5/5] END mlp__alpha=0.01, mlp__hidden_layer_sizes=(100,), mlp__max_iter=100;, score=0.832 total time=  15.1s\n"
     ]
    },
    {
     "name": "stderr",
     "output_type": "stream",
     "text": [
      "/Users/alexvarden/.pyenv/versions/3.9.6/lib/python3.9/site-packages/sklearn/neural_network/_multilayer_perceptron.py:684: ConvergenceWarning: Stochastic Optimizer: Maximum iterations (200) reached and the optimization hasn't converged yet.\n",
      "  warnings.warn(\n"
     ]
    },
    {
     "name": "stdout",
     "output_type": "stream",
     "text": [
      "[CV 1/5] END mlp__alpha=0.01, mlp__hidden_layer_sizes=(100,), mlp__max_iter=200;, score=0.806 total time=  28.7s\n",
      "[CV 3/5] END mlp__alpha=0.01, mlp__hidden_layer_sizes=(100,), mlp__max_iter=200;, score=0.818 total time=  24.1s\n",
      "[CV 5/5] END mlp__alpha=0.01, mlp__hidden_layer_sizes=(100,), mlp__max_iter=200;, score=0.828 total time=  23.9s\n"
     ]
    },
    {
     "name": "stderr",
     "output_type": "stream",
     "text": [
      "/Users/alexvarden/.pyenv/versions/3.9.6/lib/python3.9/site-packages/sklearn/neural_network/_multilayer_perceptron.py:684: ConvergenceWarning: Stochastic Optimizer: Maximum iterations (200) reached and the optimization hasn't converged yet.\n",
      "  warnings.warn(\n"
     ]
    },
    {
     "name": "stdout",
     "output_type": "stream",
     "text": [
      "[CV 2/5] END mlp__alpha=0.01, mlp__hidden_layer_sizes=(100,), mlp__max_iter=200;, score=0.817 total time=  28.1s\n"
     ]
    },
    {
     "name": "stderr",
     "output_type": "stream",
     "text": [
      "/Users/alexvarden/.pyenv/versions/3.9.6/lib/python3.9/site-packages/sklearn/neural_network/_multilayer_perceptron.py:684: ConvergenceWarning: Stochastic Optimizer: Maximum iterations (200) reached and the optimization hasn't converged yet.\n",
      "  warnings.warn(\n"
     ]
    },
    {
     "name": "stdout",
     "output_type": "stream",
     "text": [
      "[CV 4/5] END mlp__alpha=0.01, mlp__hidden_layer_sizes=(100,), mlp__max_iter=200;, score=0.817 total time=  29.3s\n",
      "[CV 3/5] END mlp__alpha=0.01, mlp__hidden_layer_sizes=(100,), mlp__max_iter=300;, score=0.818 total time=  25.1s\n",
      "[CV 2/5] END mlp__alpha=0.01, mlp__hidden_layer_sizes=(100,), mlp__max_iter=300;, score=0.821 total time=  29.8s\n"
     ]
    },
    {
     "name": "stderr",
     "output_type": "stream",
     "text": [
      "/Users/alexvarden/.pyenv/versions/3.9.6/lib/python3.9/site-packages/sklearn/neural_network/_multilayer_perceptron.py:684: ConvergenceWarning: Stochastic Optimizer: Maximum iterations (100) reached and the optimization hasn't converged yet.\n",
      "  warnings.warn(\n"
     ]
    },
    {
     "name": "stdout",
     "output_type": "stream",
     "text": [
      "[CV 1/5] END mlp__alpha=0.01, mlp__hidden_layer_sizes=(50, 50), mlp__max_iter=100;, score=0.815 total time=  13.9s\n",
      "[CV 1/5] END mlp__alpha=0.01, mlp__hidden_layer_sizes=(100,), mlp__max_iter=300;, score=0.802 total time=  38.6s\n",
      "[CV 2/5] END mlp__alpha=0.01, mlp__hidden_layer_sizes=(50, 50), mlp__max_iter=100;, score=0.821 total time=  14.0s\n"
     ]
    },
    {
     "name": "stderr",
     "output_type": "stream",
     "text": [
      "/Users/alexvarden/.pyenv/versions/3.9.6/lib/python3.9/site-packages/sklearn/neural_network/_multilayer_perceptron.py:684: ConvergenceWarning: Stochastic Optimizer: Maximum iterations (100) reached and the optimization hasn't converged yet.\n",
      "  warnings.warn(\n",
      "/Users/alexvarden/.pyenv/versions/3.9.6/lib/python3.9/site-packages/sklearn/neural_network/_multilayer_perceptron.py:684: ConvergenceWarning: Stochastic Optimizer: Maximum iterations (100) reached and the optimization hasn't converged yet.\n",
      "  warnings.warn(\n"
     ]
    },
    {
     "name": "stdout",
     "output_type": "stream",
     "text": [
      "[CV 3/5] END mlp__alpha=0.01, mlp__hidden_layer_sizes=(50, 50), mlp__max_iter=100;, score=0.820 total time=  14.2s\n"
     ]
    },
    {
     "name": "stderr",
     "output_type": "stream",
     "text": [
      "/Users/alexvarden/.pyenv/versions/3.9.6/lib/python3.9/site-packages/sklearn/neural_network/_multilayer_perceptron.py:684: ConvergenceWarning: Stochastic Optimizer: Maximum iterations (100) reached and the optimization hasn't converged yet.\n",
      "  warnings.warn(\n"
     ]
    },
    {
     "name": "stdout",
     "output_type": "stream",
     "text": [
      "[CV 4/5] END mlp__alpha=0.01, mlp__hidden_layer_sizes=(50, 50), mlp__max_iter=100;, score=0.822 total time=  13.9s\n"
     ]
    },
    {
     "name": "stderr",
     "output_type": "stream",
     "text": [
      "/Users/alexvarden/.pyenv/versions/3.9.6/lib/python3.9/site-packages/sklearn/neural_network/_multilayer_perceptron.py:684: ConvergenceWarning: Stochastic Optimizer: Maximum iterations (100) reached and the optimization hasn't converged yet.\n",
      "  warnings.warn(\n"
     ]
    },
    {
     "name": "stdout",
     "output_type": "stream",
     "text": [
      "[CV 5/5] END mlp__alpha=0.01, mlp__hidden_layer_sizes=(50, 50), mlp__max_iter=100;, score=0.827 total time=  14.1s\n",
      "[CV 5/5] END mlp__alpha=0.01, mlp__hidden_layer_sizes=(100,), mlp__max_iter=300;, score=0.828 total time=  24.4s\n",
      "[CV 4/5] END mlp__alpha=0.01, mlp__hidden_layer_sizes=(100,), mlp__max_iter=300;, score=0.818 total time=  32.4s\n"
     ]
    },
    {
     "name": "stderr",
     "output_type": "stream",
     "text": [
      "/Users/alexvarden/.pyenv/versions/3.9.6/lib/python3.9/site-packages/sklearn/neural_network/_multilayer_perceptron.py:684: ConvergenceWarning: Stochastic Optimizer: Maximum iterations (200) reached and the optimization hasn't converged yet.\n",
      "  warnings.warn(\n"
     ]
    },
    {
     "name": "stdout",
     "output_type": "stream",
     "text": [
      "[CV 1/5] END mlp__alpha=0.01, mlp__hidden_layer_sizes=(50, 50), mlp__max_iter=200;, score=0.804 total time=  26.7s\n",
      "[CV 3/5] END mlp__alpha=0.01, mlp__hidden_layer_sizes=(50, 50), mlp__max_iter=200;, score=0.817 total time=  25.6s\n"
     ]
    },
    {
     "name": "stderr",
     "output_type": "stream",
     "text": [
      "/Users/alexvarden/.pyenv/versions/3.9.6/lib/python3.9/site-packages/sklearn/neural_network/_multilayer_perceptron.py:684: ConvergenceWarning: Stochastic Optimizer: Maximum iterations (200) reached and the optimization hasn't converged yet.\n",
      "  warnings.warn(\n"
     ]
    },
    {
     "name": "stdout",
     "output_type": "stream",
     "text": [
      "[CV 2/5] END mlp__alpha=0.01, mlp__hidden_layer_sizes=(50, 50), mlp__max_iter=200;, score=0.816 total time=  25.9s\n"
     ]
    },
    {
     "name": "stderr",
     "output_type": "stream",
     "text": [
      "/Users/alexvarden/.pyenv/versions/3.9.6/lib/python3.9/site-packages/sklearn/neural_network/_multilayer_perceptron.py:684: ConvergenceWarning: Stochastic Optimizer: Maximum iterations (200) reached and the optimization hasn't converged yet.\n",
      "  warnings.warn(\n"
     ]
    },
    {
     "name": "stdout",
     "output_type": "stream",
     "text": [
      "[CV 4/5] END mlp__alpha=0.01, mlp__hidden_layer_sizes=(50, 50), mlp__max_iter=200;, score=0.816 total time=  25.8s\n"
     ]
    },
    {
     "name": "stderr",
     "output_type": "stream",
     "text": [
      "/Users/alexvarden/.pyenv/versions/3.9.6/lib/python3.9/site-packages/sklearn/neural_network/_multilayer_perceptron.py:684: ConvergenceWarning: Stochastic Optimizer: Maximum iterations (200) reached and the optimization hasn't converged yet.\n",
      "  warnings.warn(\n"
     ]
    },
    {
     "name": "stdout",
     "output_type": "stream",
     "text": [
      "[CV 5/5] END mlp__alpha=0.01, mlp__hidden_layer_sizes=(50, 50), mlp__max_iter=200;, score=0.819 total time=  25.7s\n",
      "[CV 3/5] END mlp__alpha=0.01, mlp__hidden_layer_sizes=(50, 50), mlp__max_iter=300;, score=0.817 total time=  23.9s\n",
      "[CV 2/5] END mlp__alpha=0.01, mlp__hidden_layer_sizes=(50, 50), mlp__max_iter=300;, score=0.807 total time=  32.6s\n",
      "[CV 1/5] END mlp__alpha=0.01, mlp__hidden_layer_sizes=(50, 50), mlp__max_iter=300;, score=0.813 total time=  35.3s\n"
     ]
    },
    {
     "name": "stderr",
     "output_type": "stream",
     "text": [
      "/Users/alexvarden/.pyenv/versions/3.9.6/lib/python3.9/site-packages/sklearn/neural_network/_multilayer_perceptron.py:684: ConvergenceWarning: Stochastic Optimizer: Maximum iterations (100) reached and the optimization hasn't converged yet.\n",
      "  warnings.warn(\n"
     ]
    },
    {
     "name": "stdout",
     "output_type": "stream",
     "text": [
      "[CV 1/5] END mlp__alpha=0.01, mlp__hidden_layer_sizes=(100, 100), mlp__max_iter=100;, score=0.811 total time=  23.6s\n"
     ]
    },
    {
     "name": "stderr",
     "output_type": "stream",
     "text": [
      "/Users/alexvarden/.pyenv/versions/3.9.6/lib/python3.9/site-packages/sklearn/neural_network/_multilayer_perceptron.py:684: ConvergenceWarning: Stochastic Optimizer: Maximum iterations (100) reached and the optimization hasn't converged yet.\n",
      "  warnings.warn(\n"
     ]
    },
    {
     "name": "stdout",
     "output_type": "stream",
     "text": [
      "[CV 2/5] END mlp__alpha=0.01, mlp__hidden_layer_sizes=(100, 100), mlp__max_iter=100;, score=0.827 total time=  23.9s\n"
     ]
    },
    {
     "name": "stderr",
     "output_type": "stream",
     "text": [
      "/Users/alexvarden/.pyenv/versions/3.9.6/lib/python3.9/site-packages/sklearn/neural_network/_multilayer_perceptron.py:684: ConvergenceWarning: Stochastic Optimizer: Maximum iterations (100) reached and the optimization hasn't converged yet.\n",
      "  warnings.warn(\n"
     ]
    },
    {
     "name": "stdout",
     "output_type": "stream",
     "text": [
      "[CV 3/5] END mlp__alpha=0.01, mlp__hidden_layer_sizes=(100, 100), mlp__max_iter=100;, score=0.822 total time=  24.2s\n",
      "[CV 5/5] END mlp__alpha=0.01, mlp__hidden_layer_sizes=(50, 50), mlp__max_iter=300;, score=0.816 total time=  33.1s\n",
      "[CV 4/5] END mlp__alpha=0.01, mlp__hidden_layer_sizes=(50, 50), mlp__max_iter=300;, score=0.818 total time=  36.5s\n"
     ]
    },
    {
     "name": "stderr",
     "output_type": "stream",
     "text": [
      "/Users/alexvarden/.pyenv/versions/3.9.6/lib/python3.9/site-packages/sklearn/neural_network/_multilayer_perceptron.py:684: ConvergenceWarning: Stochastic Optimizer: Maximum iterations (100) reached and the optimization hasn't converged yet.\n",
      "  warnings.warn(\n"
     ]
    },
    {
     "name": "stdout",
     "output_type": "stream",
     "text": [
      "[CV 4/5] END mlp__alpha=0.01, mlp__hidden_layer_sizes=(100, 100), mlp__max_iter=100;, score=0.813 total time=  24.3s\n"
     ]
    },
    {
     "name": "stderr",
     "output_type": "stream",
     "text": [
      "/Users/alexvarden/.pyenv/versions/3.9.6/lib/python3.9/site-packages/sklearn/neural_network/_multilayer_perceptron.py:684: ConvergenceWarning: Stochastic Optimizer: Maximum iterations (100) reached and the optimization hasn't converged yet.\n",
      "  warnings.warn(\n"
     ]
    },
    {
     "name": "stdout",
     "output_type": "stream",
     "text": [
      "[CV 5/5] END mlp__alpha=0.01, mlp__hidden_layer_sizes=(100, 100), mlp__max_iter=100;, score=0.816 total time=  24.5s\n"
     ]
    },
    {
     "name": "stderr",
     "output_type": "stream",
     "text": [
      "/Users/alexvarden/.pyenv/versions/3.9.6/lib/python3.9/site-packages/sklearn/neural_network/_multilayer_perceptron.py:684: ConvergenceWarning: Stochastic Optimizer: Maximum iterations (200) reached and the optimization hasn't converged yet.\n",
      "  warnings.warn(\n"
     ]
    },
    {
     "name": "stdout",
     "output_type": "stream",
     "text": [
      "[CV 1/5] END mlp__alpha=0.01, mlp__hidden_layer_sizes=(100, 100), mlp__max_iter=200;, score=0.800 total time=  49.6s\n",
      "[CV 4/5] END mlp__alpha=0.01, mlp__hidden_layer_sizes=(100, 100), mlp__max_iter=200;, score=0.804 total time=  42.3s\n"
     ]
    },
    {
     "name": "stderr",
     "output_type": "stream",
     "text": [
      "/Users/alexvarden/.pyenv/versions/3.9.6/lib/python3.9/site-packages/sklearn/neural_network/_multilayer_perceptron.py:684: ConvergenceWarning: Stochastic Optimizer: Maximum iterations (200) reached and the optimization hasn't converged yet.\n",
      "  warnings.warn(\n"
     ]
    },
    {
     "name": "stdout",
     "output_type": "stream",
     "text": [
      "[CV 2/5] END mlp__alpha=0.01, mlp__hidden_layer_sizes=(100, 100), mlp__max_iter=200;, score=0.811 total time=  49.8s\n"
     ]
    },
    {
     "name": "stderr",
     "output_type": "stream",
     "text": [
      "/Users/alexvarden/.pyenv/versions/3.9.6/lib/python3.9/site-packages/sklearn/neural_network/_multilayer_perceptron.py:684: ConvergenceWarning: Stochastic Optimizer: Maximum iterations (200) reached and the optimization hasn't converged yet.\n",
      "  warnings.warn(\n"
     ]
    },
    {
     "name": "stdout",
     "output_type": "stream",
     "text": [
      "[CV 3/5] END mlp__alpha=0.01, mlp__hidden_layer_sizes=(100, 100), mlp__max_iter=200;, score=0.811 total time=  48.6s\n"
     ]
    },
    {
     "name": "stderr",
     "output_type": "stream",
     "text": [
      "/Users/alexvarden/.pyenv/versions/3.9.6/lib/python3.9/site-packages/sklearn/neural_network/_multilayer_perceptron.py:684: ConvergenceWarning: Stochastic Optimizer: Maximum iterations (200) reached and the optimization hasn't converged yet.\n",
      "  warnings.warn(\n"
     ]
    },
    {
     "name": "stdout",
     "output_type": "stream",
     "text": [
      "[CV 5/5] END mlp__alpha=0.01, mlp__hidden_layer_sizes=(100, 100), mlp__max_iter=200;, score=0.811 total time=  47.5s\n",
      "[CV 1/5] END mlp__alpha=0.01, mlp__hidden_layer_sizes=(100, 100), mlp__max_iter=300;, score=0.799 total time=  50.9s\n",
      "[CV 3/5] END mlp__alpha=0.01, mlp__hidden_layer_sizes=(100, 100), mlp__max_iter=300;, score=0.808 total time=  48.2s\n",
      "[CV 4/5] END mlp__alpha=0.01, mlp__hidden_layer_sizes=(100, 100), mlp__max_iter=300;, score=0.804 total time=  32.2s\n",
      "[CV 2/5] END mlp__alpha=0.01, mlp__hidden_layer_sizes=(100, 100), mlp__max_iter=300;, score=0.820 total time= 1.0min\n",
      "[CV 5/5] END mlp__alpha=0.01, mlp__hidden_layer_sizes=(100, 100), mlp__max_iter=300;, score=0.817 total time=  37.3s\n"
     ]
    },
    {
     "name": "stderr",
     "output_type": "stream",
     "text": [
      "/Users/alexvarden/.pyenv/versions/3.9.6/lib/python3.9/site-packages/sklearn/neural_network/_multilayer_perceptron.py:684: ConvergenceWarning: Stochastic Optimizer: Maximum iterations (100) reached and the optimization hasn't converged yet.\n",
      "  warnings.warn(\n"
     ]
    },
    {
     "data": {
      "text/html": [
       "<style>#sk-container-id-1 {color: black;background-color: white;}#sk-container-id-1 pre{padding: 0;}#sk-container-id-1 div.sk-toggleable {background-color: white;}#sk-container-id-1 label.sk-toggleable__label {cursor: pointer;display: block;width: 100%;margin-bottom: 0;padding: 0.3em;box-sizing: border-box;text-align: center;}#sk-container-id-1 label.sk-toggleable__label-arrow:before {content: \"▸\";float: left;margin-right: 0.25em;color: #696969;}#sk-container-id-1 label.sk-toggleable__label-arrow:hover:before {color: black;}#sk-container-id-1 div.sk-estimator:hover label.sk-toggleable__label-arrow:before {color: black;}#sk-container-id-1 div.sk-toggleable__content {max-height: 0;max-width: 0;overflow: hidden;text-align: left;background-color: #f0f8ff;}#sk-container-id-1 div.sk-toggleable__content pre {margin: 0.2em;color: black;border-radius: 0.25em;background-color: #f0f8ff;}#sk-container-id-1 input.sk-toggleable__control:checked~div.sk-toggleable__content {max-height: 200px;max-width: 100%;overflow: auto;}#sk-container-id-1 input.sk-toggleable__control:checked~label.sk-toggleable__label-arrow:before {content: \"▾\";}#sk-container-id-1 div.sk-estimator input.sk-toggleable__control:checked~label.sk-toggleable__label {background-color: #d4ebff;}#sk-container-id-1 div.sk-label input.sk-toggleable__control:checked~label.sk-toggleable__label {background-color: #d4ebff;}#sk-container-id-1 input.sk-hidden--visually {border: 0;clip: rect(1px 1px 1px 1px);clip: rect(1px, 1px, 1px, 1px);height: 1px;margin: -1px;overflow: hidden;padding: 0;position: absolute;width: 1px;}#sk-container-id-1 div.sk-estimator {font-family: monospace;background-color: #f0f8ff;border: 1px dotted black;border-radius: 0.25em;box-sizing: border-box;margin-bottom: 0.5em;}#sk-container-id-1 div.sk-estimator:hover {background-color: #d4ebff;}#sk-container-id-1 div.sk-parallel-item::after {content: \"\";width: 100%;border-bottom: 1px solid gray;flex-grow: 1;}#sk-container-id-1 div.sk-label:hover label.sk-toggleable__label {background-color: #d4ebff;}#sk-container-id-1 div.sk-serial::before {content: \"\";position: absolute;border-left: 1px solid gray;box-sizing: border-box;top: 0;bottom: 0;left: 50%;z-index: 0;}#sk-container-id-1 div.sk-serial {display: flex;flex-direction: column;align-items: center;background-color: white;padding-right: 0.2em;padding-left: 0.2em;position: relative;}#sk-container-id-1 div.sk-item {position: relative;z-index: 1;}#sk-container-id-1 div.sk-parallel {display: flex;align-items: stretch;justify-content: center;background-color: white;position: relative;}#sk-container-id-1 div.sk-item::before, #sk-container-id-1 div.sk-parallel-item::before {content: \"\";position: absolute;border-left: 1px solid gray;box-sizing: border-box;top: 0;bottom: 0;left: 50%;z-index: -1;}#sk-container-id-1 div.sk-parallel-item {display: flex;flex-direction: column;z-index: 1;position: relative;background-color: white;}#sk-container-id-1 div.sk-parallel-item:first-child::after {align-self: flex-end;width: 50%;}#sk-container-id-1 div.sk-parallel-item:last-child::after {align-self: flex-start;width: 50%;}#sk-container-id-1 div.sk-parallel-item:only-child::after {width: 0;}#sk-container-id-1 div.sk-dashed-wrapped {border: 1px dashed gray;margin: 0 0.4em 0.5em 0.4em;box-sizing: border-box;padding-bottom: 0.4em;background-color: white;}#sk-container-id-1 div.sk-label label {font-family: monospace;font-weight: bold;display: inline-block;line-height: 1.2em;}#sk-container-id-1 div.sk-label-container {text-align: center;}#sk-container-id-1 div.sk-container {/* jupyter's `normalize.less` sets `[hidden] { display: none; }` but bootstrap.min.css set `[hidden] { display: none !important; }` so we also need the `!important` here to be able to override the default hidden behavior on the sphinx rendered scikit-learn.org. See: https://github.com/scikit-learn/scikit-learn/issues/21755 */display: inline-block !important;position: relative;}#sk-container-id-1 div.sk-text-repr-fallback {display: none;}</style><div id=\"sk-container-id-1\" class=\"sk-top-container\"><div class=\"sk-text-repr-fallback\"><pre>GridSearchCV(cv=5,\n",
       "             estimator=Pipeline(steps=[(&#x27;sm&#x27;, SMOTE(random_state=42)),\n",
       "                                       (&#x27;scaler&#x27;, StandardScaler()),\n",
       "                                       (&#x27;mlp&#x27;,\n",
       "                                        MLPClassifier(random_state=42))]),\n",
       "             n_jobs=-1,\n",
       "             param_grid={&#x27;mlp__alpha&#x27;: [0.0001, 0.001, 0.01],\n",
       "                         &#x27;mlp__hidden_layer_sizes&#x27;: [(50,), (100,), (50, 50),\n",
       "                                                     (100, 100)],\n",
       "                         &#x27;mlp__max_iter&#x27;: [100, 200, 300]},\n",
       "             verbose=3)</pre><b>In a Jupyter environment, please rerun this cell to show the HTML representation or trust the notebook. <br />On GitHub, the HTML representation is unable to render, please try loading this page with nbviewer.org.</b></div><div class=\"sk-container\" hidden><div class=\"sk-item sk-dashed-wrapped\"><div class=\"sk-label-container\"><div class=\"sk-label sk-toggleable\"><input class=\"sk-toggleable__control sk-hidden--visually\" id=\"sk-estimator-id-1\" type=\"checkbox\" ><label for=\"sk-estimator-id-1\" class=\"sk-toggleable__label sk-toggleable__label-arrow\">GridSearchCV</label><div class=\"sk-toggleable__content\"><pre>GridSearchCV(cv=5,\n",
       "             estimator=Pipeline(steps=[(&#x27;sm&#x27;, SMOTE(random_state=42)),\n",
       "                                       (&#x27;scaler&#x27;, StandardScaler()),\n",
       "                                       (&#x27;mlp&#x27;,\n",
       "                                        MLPClassifier(random_state=42))]),\n",
       "             n_jobs=-1,\n",
       "             param_grid={&#x27;mlp__alpha&#x27;: [0.0001, 0.001, 0.01],\n",
       "                         &#x27;mlp__hidden_layer_sizes&#x27;: [(50,), (100,), (50, 50),\n",
       "                                                     (100, 100)],\n",
       "                         &#x27;mlp__max_iter&#x27;: [100, 200, 300]},\n",
       "             verbose=3)</pre></div></div></div><div class=\"sk-parallel\"><div class=\"sk-parallel-item\"><div class=\"sk-item\"><div class=\"sk-label-container\"><div class=\"sk-label sk-toggleable\"><input class=\"sk-toggleable__control sk-hidden--visually\" id=\"sk-estimator-id-2\" type=\"checkbox\" ><label for=\"sk-estimator-id-2\" class=\"sk-toggleable__label sk-toggleable__label-arrow\">estimator: Pipeline</label><div class=\"sk-toggleable__content\"><pre>Pipeline(steps=[(&#x27;sm&#x27;, SMOTE(random_state=42)), (&#x27;scaler&#x27;, StandardScaler()),\n",
       "                (&#x27;mlp&#x27;, MLPClassifier(random_state=42))])</pre></div></div></div><div class=\"sk-serial\"><div class=\"sk-item\"><div class=\"sk-serial\"><div class=\"sk-item\"><div class=\"sk-estimator sk-toggleable\"><input class=\"sk-toggleable__control sk-hidden--visually\" id=\"sk-estimator-id-3\" type=\"checkbox\" ><label for=\"sk-estimator-id-3\" class=\"sk-toggleable__label sk-toggleable__label-arrow\">SMOTE</label><div class=\"sk-toggleable__content\"><pre>SMOTE(random_state=42)</pre></div></div></div><div class=\"sk-item\"><div class=\"sk-estimator sk-toggleable\"><input class=\"sk-toggleable__control sk-hidden--visually\" id=\"sk-estimator-id-4\" type=\"checkbox\" ><label for=\"sk-estimator-id-4\" class=\"sk-toggleable__label sk-toggleable__label-arrow\">StandardScaler</label><div class=\"sk-toggleable__content\"><pre>StandardScaler()</pre></div></div></div><div class=\"sk-item\"><div class=\"sk-estimator sk-toggleable\"><input class=\"sk-toggleable__control sk-hidden--visually\" id=\"sk-estimator-id-5\" type=\"checkbox\" ><label for=\"sk-estimator-id-5\" class=\"sk-toggleable__label sk-toggleable__label-arrow\">MLPClassifier</label><div class=\"sk-toggleable__content\"><pre>MLPClassifier(random_state=42)</pre></div></div></div></div></div></div></div></div></div></div></div></div>"
      ],
      "text/plain": [
       "GridSearchCV(cv=5,\n",
       "             estimator=Pipeline(steps=[('sm', SMOTE(random_state=42)),\n",
       "                                       ('scaler', StandardScaler()),\n",
       "                                       ('mlp',\n",
       "                                        MLPClassifier(random_state=42))]),\n",
       "             n_jobs=-1,\n",
       "             param_grid={'mlp__alpha': [0.0001, 0.001, 0.01],\n",
       "                         'mlp__hidden_layer_sizes': [(50,), (100,), (50, 50),\n",
       "                                                     (100, 100)],\n",
       "                         'mlp__max_iter': [100, 200, 300]},\n",
       "             verbose=3)"
      ]
     },
     "execution_count": 12,
     "metadata": {},
     "output_type": "execute_result"
    }
   ],
   "source": [
    "# Use SMOTE to oversample the minority class within the cross validation\n",
    "# This way the sampling is done on the training data only, hence avoiding leakage\n",
    "print(\"Balancing the data using SMOTE...\")\n",
    "sm = SMOTE(random_state=42)\n",
    "\n",
    "\n",
    "# Define the Random Forest Classifier and MLPClassifier\n",
    "rfc = RandomForestClassifier(random_state=42)\n",
    "mlp = MLPClassifier(random_state=42)\n",
    "\n",
    "# Define the pipeline with SMOTE, normalization and the classifier\n",
    "pipeline_rfc = Pipeline([('sm', sm), ('scaler', scaler), ('rfc', rfc)])\n",
    "pipeline_mlp = Pipeline([('sm', sm), ('scaler', scaler), ('mlp', mlp)])\n",
    "\n",
    "# Define the hyperparameters to tune with GridSearchCV\n",
    "param_grid_rfc = {'rfc__n_estimators': [50, 100, 200],\n",
    "                  'rfc__max_depth': [5, 10, 15],\n",
    "                  'rfc__min_samples_split': [2, 5, 10]}\n",
    "\n",
    "param_grid_mlp = {'mlp__hidden_layer_sizes': [(50,), (100,), (50, 50), (100, 100)],\n",
    "                  'mlp__alpha': [0.0001, 0.001, 0.01],\n",
    "                  'mlp__max_iter': [100, 200, 300]}\n",
    "\n",
    "# Train the models using GridSearchCV to find the best hyperparameters\n",
    "print(\"Training the models using GridSearchCV...\")\n",
    "grid_rfc = GridSearchCV(pipeline_rfc, param_grid_rfc,\n",
    "                        cv=5, n_jobs=-1,  verbose=3)\n",
    "grid_rfc.fit(X_train, y_train)\n",
    "\n",
    "grid_mlp = GridSearchCV(pipeline_mlp, param_grid_mlp,\n",
    "                        cv=5, n_jobs=-1,  verbose=3)\n",
    "grid_mlp.fit(X_train, y_train)\n",
    "\n",
    "\n"
   ]
  },
  {
   "cell_type": "code",
   "execution_count": 13,
   "id": "434468ca",
   "metadata": {},
   "outputs": [],
   "source": [
    "# Save the models to pickle files\n",
    "with open(\"models/rfc-adult.pickle\", \"wb\") as f:\n",
    "    pickle.dump(grid_rfc.best_estimator_, f)\n",
    "\n",
    "with open(\"models/mlp-adult.pickle\", \"wb\") as f:\n",
    "    pickle.dump(grid_mlp.best_estimator_, f)\n"
   ]
  },
  {
   "cell_type": "code",
   "execution_count": 16,
   "id": "56c93494",
   "metadata": {},
   "outputs": [
    {
     "name": "stdout",
     "output_type": "stream",
     "text": [
      "Best hyperparameters for Random Forest: {'rfc__max_depth': 15, 'rfc__min_samples_split': 5, 'rfc__n_estimators': 200}\n",
      "Best hyperparameters for MLP: {'mlp__alpha': 0.01, 'mlp__hidden_layer_sizes': (50,), 'mlp__max_iter': 100}\n",
      "Classification report for Random Forest:\n",
      "              precision    recall  f1-score   support\n",
      "\n",
      "       <=50K       0.95      0.80      0.87      4942\n",
      "        >50K       0.58      0.86      0.69      1571\n",
      "\n",
      "    accuracy                           0.81      6513\n",
      "   macro avg       0.76      0.83      0.78      6513\n",
      "weighted avg       0.86      0.81      0.82      6513\n",
      "\n",
      "Classification report for MLP:\n",
      "              precision    recall  f1-score   support\n",
      "\n",
      "       <=50K       0.91      0.86      0.88      4942\n",
      "        >50K       0.62      0.75      0.68      1571\n",
      "\n",
      "    accuracy                           0.83      6513\n",
      "   macro avg       0.77      0.80      0.78      6513\n",
      "weighted avg       0.84      0.83      0.84      6513\n",
      "\n"
     ]
    },
    {
     "ename": "ValueError",
     "evalue": "y_true takes value in {' <=50K', ' >50K'} and pos_label is not specified: either make y_true take value in {0, 1} or {-1, 1} or pass pos_label explicitly.",
     "output_type": "error",
     "traceback": [
      "\u001b[0;31m---------------------------------------------------------------------------\u001b[0m",
      "\u001b[0;31mValueError\u001b[0m                                Traceback (most recent call last)",
      "Cell \u001b[0;32mIn[16], line 18\u001b[0m\n\u001b[1;32m     16\u001b[0m \u001b[39m# Calculate the ROC curve for both models\u001b[39;00m\n\u001b[1;32m     17\u001b[0m y_proba_rfc \u001b[39m=\u001b[39m grid_rfc\u001b[39m.\u001b[39mpredict_proba(X_test)[:, \u001b[39m1\u001b[39m]\n\u001b[0;32m---> 18\u001b[0m fpr_rfc, tpr_rfc, thresholds_rfc \u001b[39m=\u001b[39m roc_curve(y_test, y_proba_rfc)\n\u001b[1;32m     20\u001b[0m y_proba_mlp \u001b[39m=\u001b[39m grid_mlp\u001b[39m.\u001b[39mpredict_proba(X_test)[:, \u001b[39m1\u001b[39m]\n\u001b[1;32m     21\u001b[0m fpr_mlp, tpr_mlp, thresholds_mlp \u001b[39m=\u001b[39m roc_curve(y_test, y_proba_mlp)\n",
      "File \u001b[0;32m~/.pyenv/versions/3.9.6/lib/python3.9/site-packages/sklearn/metrics/_ranking.py:992\u001b[0m, in \u001b[0;36mroc_curve\u001b[0;34m(y_true, y_score, pos_label, sample_weight, drop_intermediate)\u001b[0m\n\u001b[1;32m    904\u001b[0m \u001b[39mdef\u001b[39;00m \u001b[39mroc_curve\u001b[39m(\n\u001b[1;32m    905\u001b[0m     y_true, y_score, \u001b[39m*\u001b[39m, pos_label\u001b[39m=\u001b[39m\u001b[39mNone\u001b[39;00m, sample_weight\u001b[39m=\u001b[39m\u001b[39mNone\u001b[39;00m, drop_intermediate\u001b[39m=\u001b[39m\u001b[39mTrue\u001b[39;00m\n\u001b[1;32m    906\u001b[0m ):\n\u001b[1;32m    907\u001b[0m \u001b[39m    \u001b[39m\u001b[39m\"\"\"Compute Receiver operating characteristic (ROC).\u001b[39;00m\n\u001b[1;32m    908\u001b[0m \n\u001b[1;32m    909\u001b[0m \u001b[39m    Note: this implementation is restricted to the binary classification task.\u001b[39;00m\n\u001b[0;32m   (...)\u001b[0m\n\u001b[1;32m    990\u001b[0m \u001b[39m    array([1.8 , 0.8 , 0.4 , 0.35, 0.1 ])\u001b[39;00m\n\u001b[1;32m    991\u001b[0m \u001b[39m    \"\"\"\u001b[39;00m\n\u001b[0;32m--> 992\u001b[0m     fps, tps, thresholds \u001b[39m=\u001b[39m _binary_clf_curve(\n\u001b[1;32m    993\u001b[0m         y_true, y_score, pos_label\u001b[39m=\u001b[39;49mpos_label, sample_weight\u001b[39m=\u001b[39;49msample_weight\n\u001b[1;32m    994\u001b[0m     )\n\u001b[1;32m    996\u001b[0m     \u001b[39m# Attempt to drop thresholds corresponding to points in between and\u001b[39;00m\n\u001b[1;32m    997\u001b[0m     \u001b[39m# collinear with other points. These are always suboptimal and do not\u001b[39;00m\n\u001b[1;32m    998\u001b[0m     \u001b[39m# appear on a plotted ROC curve (and thus do not affect the AUC).\u001b[39;00m\n\u001b[0;32m   (...)\u001b[0m\n\u001b[1;32m   1003\u001b[0m     \u001b[39m# but does not drop more complicated cases like fps = [1, 3, 7],\u001b[39;00m\n\u001b[1;32m   1004\u001b[0m     \u001b[39m# tps = [1, 2, 4]; there is no harm in keeping too many thresholds.\u001b[39;00m\n\u001b[1;32m   1005\u001b[0m     \u001b[39mif\u001b[39;00m drop_intermediate \u001b[39mand\u001b[39;00m \u001b[39mlen\u001b[39m(fps) \u001b[39m>\u001b[39m \u001b[39m2\u001b[39m:\n",
      "File \u001b[0;32m~/.pyenv/versions/3.9.6/lib/python3.9/site-packages/sklearn/metrics/_ranking.py:766\u001b[0m, in \u001b[0;36m_binary_clf_curve\u001b[0;34m(y_true, y_score, pos_label, sample_weight)\u001b[0m\n\u001b[1;32m    763\u001b[0m     y_score \u001b[39m=\u001b[39m y_score[nonzero_weight_mask]\n\u001b[1;32m    764\u001b[0m     sample_weight \u001b[39m=\u001b[39m sample_weight[nonzero_weight_mask]\n\u001b[0;32m--> 766\u001b[0m pos_label \u001b[39m=\u001b[39m _check_pos_label_consistency(pos_label, y_true)\n\u001b[1;32m    768\u001b[0m \u001b[39m# make y_true a boolean vector\u001b[39;00m\n\u001b[1;32m    769\u001b[0m y_true \u001b[39m=\u001b[39m y_true \u001b[39m==\u001b[39m pos_label\n",
      "File \u001b[0;32m~/.pyenv/versions/3.9.6/lib/python3.9/site-packages/sklearn/metrics/_base.py:243\u001b[0m, in \u001b[0;36m_check_pos_label_consistency\u001b[0;34m(pos_label, y_true)\u001b[0m\n\u001b[1;32m    232\u001b[0m \u001b[39mif\u001b[39;00m pos_label \u001b[39mis\u001b[39;00m \u001b[39mNone\u001b[39;00m \u001b[39mand\u001b[39;00m (\n\u001b[1;32m    233\u001b[0m     classes\u001b[39m.\u001b[39mdtype\u001b[39m.\u001b[39mkind \u001b[39min\u001b[39;00m \u001b[39m\"\u001b[39m\u001b[39mOUS\u001b[39m\u001b[39m\"\u001b[39m\n\u001b[1;32m    234\u001b[0m     \u001b[39mor\u001b[39;00m \u001b[39mnot\u001b[39;00m (\n\u001b[0;32m   (...)\u001b[0m\n\u001b[1;32m    240\u001b[0m     )\n\u001b[1;32m    241\u001b[0m ):\n\u001b[1;32m    242\u001b[0m     classes_repr \u001b[39m=\u001b[39m \u001b[39m\"\u001b[39m\u001b[39m, \u001b[39m\u001b[39m\"\u001b[39m\u001b[39m.\u001b[39mjoin(\u001b[39mrepr\u001b[39m(c) \u001b[39mfor\u001b[39;00m c \u001b[39min\u001b[39;00m classes)\n\u001b[0;32m--> 243\u001b[0m     \u001b[39mraise\u001b[39;00m \u001b[39mValueError\u001b[39;00m(\n\u001b[1;32m    244\u001b[0m         \u001b[39mf\u001b[39m\u001b[39m\"\u001b[39m\u001b[39my_true takes value in \u001b[39m\u001b[39m{{\u001b[39;00m\u001b[39m{\u001b[39;00mclasses_repr\u001b[39m}\u001b[39;00m\u001b[39m}}\u001b[39;00m\u001b[39m and pos_label is not \u001b[39m\u001b[39m\"\u001b[39m\n\u001b[1;32m    245\u001b[0m         \u001b[39m\"\u001b[39m\u001b[39mspecified: either make y_true take value in \u001b[39m\u001b[39m{\u001b[39m\u001b[39m0, 1} or \u001b[39m\u001b[39m\"\u001b[39m\n\u001b[1;32m    246\u001b[0m         \u001b[39m\"\u001b[39m\u001b[39m{\u001b[39m\u001b[39m-1, 1} or pass pos_label explicitly.\u001b[39m\u001b[39m\"\u001b[39m\n\u001b[1;32m    247\u001b[0m     )\n\u001b[1;32m    248\u001b[0m \u001b[39melif\u001b[39;00m pos_label \u001b[39mis\u001b[39;00m \u001b[39mNone\u001b[39;00m:\n\u001b[1;32m    249\u001b[0m     pos_label \u001b[39m=\u001b[39m \u001b[39m1\u001b[39m\n",
      "\u001b[0;31mValueError\u001b[0m: y_true takes value in {' <=50K', ' >50K'} and pos_label is not specified: either make y_true take value in {0, 1} or {-1, 1} or pass pos_label explicitly."
     ]
    }
   ],
   "source": [
    "\n",
    "# Print the best hyperparameters for both models\n",
    "print(\"Best hyperparameters for Random Forest:\", grid_rfc.best_params_)\n",
    "print(\"Best hyperparameters for MLP:\", grid_mlp.best_params_)\n",
    "\n",
    "# Predict on the test set using the best models\n",
    "y_pred_rfc = grid_rfc.predict(X_test)\n",
    "y_pred_mlp = grid_mlp.predict(X_test)\n",
    "\n",
    "# Print the classification reports for both models\n",
    "print(\"Classification report for Random Forest:\")\n",
    "print(classification_report(y_test, y_pred_rfc))\n",
    "\n",
    "print(\"Classification report for MLP:\")\n",
    "print(classification_report(y_test, y_pred_mlp))\n",
    "\n",
    "# Calculate the ROC curve for both models\n",
    "y_proba_rfc = grid_rfc.predict_proba(X_test)[:, 1]\n",
    "fpr_rfc, tpr_rfc, thresholds_rfc = roc_curve(y_test, y_proba_rfc)\n",
    "\n",
    "y_proba_mlp = grid_mlp.predict_proba(X_test)[:, 1]\n",
    "fpr_mlp, tpr_mlp, thresholds_mlp = roc_curve(y_test, y_proba_mlp)\n",
    "\n",
    "# Plot the ROC curve for both models\n",
    "plt.figure(figsize=(8, 8))\n",
    "plt.plot(fpr_rfc, tpr_rfc, label='Random Forest')\n",
    "plt.plot(fpr_mlp, tpr_mlp, label='MLP')\n",
    "plt.plot([0, 1], [0, 1], linestyle='--', label='No Skill')\n",
    "plt.xlabel('False Positive Rate')\n",
    "plt.ylabel('True Positive Rate')\n",
    "plt.title('ROC Curve')\n",
    "plt.legend()\n",
    "plt.show()\n"
   ]
  },
  {
   "cell_type": "code",
   "execution_count": null,
   "id": "ef631040",
   "metadata": {},
   "outputs": [],
   "source": [
    "# Import the necessary libraries\n",
    "from dice_ml import Dice\n",
    "from dice_ml.utils import helpers  # for custom data normalization\n",
    "import pandas as pd\n",
    "\n",
    "# Load the adult dataset and preprocess the data\n",
    "data = pd.read_csv(\n",
    "    'https://archive.ics.uci.edu/ml/machine-learning-databases/adult/adult.data', header=None)\n",
    "data.columns = ['age', 'workclass', 'fnlwgt', 'education', 'education-num', 'marital-status', 'occupation',\n",
    "                'relationship', 'race', 'sex', 'capital-gain', 'capital-loss', 'hours-per-week', 'native-country', 'income']\n",
    "data = data.drop(['fnlwgt'], axis=1)  # Drop non-relevant feature\n",
    "# Replace income classes with 0 and 1\n",
    "data = data.replace({'income': {'<=50K': 0, '>50K': 1}})\n",
    "\n",
    "# Define the input for which we want to generate a counterfactual explanation\n",
    "input_data = {'age': 25, 'workclass': 'Private', 'education': 'Some-college', 'education-num': 10,\n",
    "              'marital-status': 'Never-married', 'occupation': 'Exec-managerial', 'relationship': 'Not-in-family',\n",
    "              'race': 'White', 'sex': 'Male', 'capital-gain': 0, 'capital-loss': 0, 'hours-per-week': 40,\n",
    "              'native-country': 'United-States'}\n",
    "\n",
    "# Define the feature names and feature types (categorical or continuous)\n",
    "feature_names = list(data.columns.drop('income'))\n",
    "feature_types = {'age': 'continuous', 'workclass': 'categorical', 'education': 'categorical',\n",
    "                 'education-num': 'continuous', 'marital-status': 'categorical', 'occupation': 'categorical',\n",
    "                 'relationship': 'categorical', 'race': 'categorical', 'sex': 'categorical', 'capital-gain': 'continuous',\n",
    "                 'capital-loss': 'continuous', 'hours-per-week': 'continuous', 'native-country': 'categorical'}\n",
    "\n",
    "# Normalize the input data using the provided helper function\n",
    "normalized_data = helpers.normalize_data(data)\n",
    "\n",
    "# Define the DiCE instance and generate counterfactuals\n",
    "dice = Dice(data, normalize=True)\n",
    "counterfactuals = dice.generate_counterfactuals(input_data, total_CFs=4, desired_class=\"opposite\", features_to_vary=\"all\",\n",
    "                                                feature_weights=\"inverse_mad\", proximity_weight=0.5)\n",
    "# Print the generated counterfactuals\n",
    "print(\"Counterfactuals:\")\n",
    "for i, cf in enumerate(counterfactuals):\n",
    "    print(\"CF \", i, \": \", cf.final_cfs)\n"
   ]
  }
 ],
 "metadata": {
  "kernelspec": {
   "display_name": "Python 3",
   "language": "python",
   "name": "python3"
  },
  "language_info": {
   "codemirror_mode": {
    "name": "ipython",
    "version": 3
   },
   "file_extension": ".py",
   "mimetype": "text/x-python",
   "name": "python",
   "nbconvert_exporter": "python",
   "pygments_lexer": "ipython3",
   "version": "3.9.6"
  },
  "vscode": {
   "interpreter": {
    "hash": "0464d5d02af622c04444deef6bf77eced4446107876871d1167ca91be0730c29"
   }
  }
 },
 "nbformat": 4,
 "nbformat_minor": 5
}
